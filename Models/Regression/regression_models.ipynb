{
 "cells": [
  {
   "cell_type": "markdown",
   "metadata": {},
   "source": [
    "# Suicide Rate Prediction Regression Model\n",
    "\n",
    "The purpose of this notebook is to create a regression model to predict the suicide rate of a city in a certain year. \n",
    "\n",
    "The features used for this model are the disease rates from the previous year for that city, as well as the state where it is located and the suicide rate from the previous year.\n",
    "\n",
    "---"
   ]
  },
  {
   "cell_type": "markdown",
   "metadata": {},
   "source": [
    "Import libraries"
   ]
  },
  {
   "cell_type": "code",
   "execution_count": 1,
   "metadata": {},
   "outputs": [],
   "source": [
    "import pandas as pd\n",
    "import numpy as np\n",
    "import scipy.stats as stats\n",
    "\n",
    "# DataPrep\n",
    "from sklearn.model_selection import train_test_split, KFold\n",
    "from sklearn.preprocessing import MinMaxScaler, StandardScaler\n",
    "# Tuning\n",
    "from skopt import gp_minimize\n",
    "# Feature Selection\n",
    "from sklearn.feature_selection import RFE,SelectFromModel\n",
    "# Models\n",
    "from sklearn.svm import SVR\n",
    "from sklearn.linear_model import ElasticNet, LinearRegression\n",
    "from sklearn.ensemble import RandomForestRegressor, AdaBoostRegressor, GradientBoostingRegressor\n",
    "import pickle\n",
    "import joblib\n",
    "\n",
    "# Evaluation\n",
    "from sklearn import metrics\n",
    "\n",
    "# Plotting\n",
    "import sys\n",
    "import os\n",
    "import numpy as np\n",
    "import geopandas as gpd\n",
    "import matplotlib.pyplot as plt\n",
    "import matplotlib.patches as mpatches\n",
    "# import geoplot\n",
    "# import mapclassify\n",
    "sys.path.append(os.path.abspath('..'))\n",
    "%matplotlib inline\n",
    "\n",
    "import time\n",
    "import glob\n",
    "import shap\n",
    "root = \"../../\""
   ]
  },
  {
   "cell_type": "code",
   "execution_count": 2,
   "metadata": {},
   "outputs": [],
   "source": [
    "dict_uf_cod = {11: 'RO', 12: 'AC', 13: 'AM', 14: 'RR', 15: 'PA', 16: 'AP', 17: 'TO',\n",
    "21: 'MA', 22: 'PI', 23: 'CE', 24: 'RN', 25: 'PB', 26: 'PE', 27: 'AL', 28: 'SE',\n",
    "29: 'BA', 31: 'MG', 32: 'ES', 33: 'RJ', 35: 'SP', 41: 'PR', 42: 'SC', 43: 'RS',\n",
    "50: 'MS', 51: 'MT', 52: 'GO', 53: 'DF'}"
   ]
  },
  {
   "cell_type": "markdown",
   "metadata": {},
   "source": [
    "# DataPrep\n",
    "*You can skip this and load the csv directly after this section*\n",
    "\n",
    "---"
   ]
  },
  {
   "cell_type": "markdown",
   "metadata": {},
   "source": [
    "## DataPrep (models)"
   ]
  },
  {
   "cell_type": "markdown",
   "metadata": {},
   "source": [
    "Getting a list of all diseases"
   ]
  },
  {
   "cell_type": "code",
   "execution_count": null,
   "metadata": {},
   "outputs": [],
   "source": [
    "disease = \"\"\n",
    "path = root + \"CSV/TabNet/Internacoes_Rate/\"\n",
    "all_files = glob.glob(path + \"*.csv\")\n",
    "suicide = pd.read_csv(root +'CSV/Suicide/suicide_rates_08_18.csv', index_col=0)\n",
    "\n",
    "years = [str(x).zfill(2) for x in range(8,19)]\n",
    "columns = [\"RATE_\" + year for year in years]\n",
    "columns.append(\"MUNCOD\")\n",
    "\n",
    "disease_list = []\n",
    "\n",
    "for file in all_files:\n",
    "    file_name = file.split(\"/\")[-1]\n",
    "    disease = file_name.split(\".csv\")[0]\n",
    "    disease_df = pd.read_csv(file, sep=',', index_col=0)\n",
    "    if(set(disease_df.columns) == set(columns)):\n",
    "        disease_list.append(disease)\n",
    "print(len(disease_list), \" diseases\")"
   ]
  },
  {
   "cell_type": "markdown",
   "metadata": {},
   "source": [
    "Creating dataframe by using only rows with **at least 80% values that are not NaN** "
   ]
  },
  {
   "cell_type": "code",
   "execution_count": null,
   "metadata": {},
   "outputs": [],
   "source": [
    "initial_df = pd.DataFrame()\n",
    "percentage_valid_values = 0.8\n",
    "for i in range(len(years)-1):\n",
    "    col_year_suicide = \"RATE_\" + years[i+1]\n",
    "    col_year_prev = \"RATE_\" + years[i]\n",
    "    year_df = suicide[[col_year_prev, col_year_suicide, \"MUNCOD\"]]\n",
    "    year_df = year_df.rename(columns={col_year_suicide: \"RATE\"})\n",
    "    year_df = year_df.rename(columns={col_year_prev: \"PREVIOUS\"})\n",
    "    for disease in disease_list:\n",
    "        col_year_disease = \"RATE_\" + years[i]\n",
    "        disease_df = pd.read_csv(path + disease + \".csv\", sep=',', index_col=0)\n",
    "        disease_df = disease_df[[col_year_disease, \"MUNCOD\"]]\n",
    "        disease_df = disease_df.rename(columns={col_year_disease: disease})\n",
    "\n",
    "        year_df = pd.merge(disease_df, year_df, left_on=\"MUNCOD\", right_on=\"MUNCOD\", how='right')\n",
    "    N = int(year_df.shape[1]*percentage_valid_values)  \n",
    "    year_df = year_df.dropna(thresh=N)\n",
    "    initial_df = pd.concat([initial_df, year_df])\n",
    "\n",
    "initial_df.head()"
   ]
  },
  {
   "cell_type": "markdown",
   "metadata": {},
   "source": [
    "Filling NaN values with zero and getting state code from MUNCOD column"
   ]
  },
  {
   "cell_type": "code",
   "execution_count": null,
   "metadata": {},
   "outputs": [],
   "source": [
    "df = initial_df.copy()\n",
    "\n",
    "# Fill NaN values with 0\n",
    "df = df.fillna(0)\n",
    "\n",
    "# Get MUNCOD from UF\n",
    "df['UF'] = df['MUNCOD'] / 10000\n",
    "df['UF'] = df['UF'].astype(int)\n",
    "df['UF'].replace(dict_uf_cod, inplace=True)\n",
    "dummy = pd.get_dummies(df['UF'])\n",
    "df = pd.concat([df, dummy], axis=1)\n",
    "df = df.drop(['MUNCOD', 'UF'], axis=1)\n",
    "\n",
    "# Removing outliers\n",
    "df = df[(np.abs(stats.zscore(df[\"RATE\"])) < 3)] \n",
    "df.head()"
   ]
  },
  {
   "cell_type": "code",
   "execution_count": null,
   "metadata": {},
   "outputs": [],
   "source": [
    "df.to_csv(\"df_regression.csv\")"
   ]
  },
  {
   "cell_type": "markdown",
   "metadata": {},
   "source": [
    "## DataPrep (2018 predictions)"
   ]
  },
  {
   "cell_type": "markdown",
   "metadata": {},
   "source": [
    "Getting training data (2008-2017)"
   ]
  },
  {
   "cell_type": "code",
   "execution_count": null,
   "metadata": {},
   "outputs": [],
   "source": [
    "train_df = pd.DataFrame()\n",
    "percentage_valid_values = 0.8\n",
    "for i in range(0,len(years)-2):\n",
    "    col_year_suicide = \"RATE_\" + years[i+1]\n",
    "    col_year_prev = \"RATE_\" + years[i]\n",
    "    year_df = suicide[[col_year_prev, col_year_suicide, \"MUNCOD\"]]\n",
    "    year_df = year_df.rename(columns={col_year_suicide: \"RATE\"})\n",
    "    year_df = year_df.rename(columns={col_year_prev: \"PREVIOUS\"})\n",
    "    for disease in disease_list:\n",
    "        col_year_disease = \"RATE_\" + years[i]\n",
    "        disease_df = pd.read_csv(path + disease + \".csv\", sep=',', index_col=0)\n",
    "        disease_df = disease_df[[col_year_disease, \"MUNCOD\"]]\n",
    "        disease_df = disease_df.rename(columns={col_year_disease: disease})\n",
    "\n",
    "        year_df = pd.merge(disease_df, year_df, left_on=\"MUNCOD\", right_on=\"MUNCOD\", how='right')\n",
    "    N = int(year_df.shape[1]*percentage_valid_values)  \n",
    "    year_df = year_df.dropna(thresh=N)\n",
    "    train_df = pd.concat([train_df, year_df])\n",
    "\n",
    "train_df.head()"
   ]
  },
  {
   "cell_type": "code",
   "execution_count": null,
   "metadata": {},
   "outputs": [],
   "source": [
    "# Fill NaN values with 0\n",
    "train_df = train_df.fillna(0)\n",
    "\n",
    "# Get MUNCOD from UF\n",
    "train_df['UF'] = train_df['MUNCOD'] / 10000\n",
    "train_df['UF'] = train_df['UF'].astype(int)\n",
    "train_df['UF'].replace(dict_uf_cod, inplace=True)\n",
    "dummy = pd.get_dummies(train_df['UF'])\n",
    "train_df = pd.concat([train_df, dummy], axis=1)\n",
    "train_df = train_df.drop(['MUNCOD', 'UF'], axis=1)\n",
    "\n",
    "# Removing outliers\n",
    "train_df = train_df[(np.abs(stats.zscore(train_df[\"RATE\"])) < 3)] \n",
    "\n",
    "train_df.head()"
   ]
  },
  {
   "cell_type": "code",
   "execution_count": null,
   "metadata": {},
   "outputs": [],
   "source": [
    "train_df.to_csv(\"train_data_regression.csv\")"
   ]
  },
  {
   "cell_type": "markdown",
   "metadata": {},
   "source": [
    "Getting testing data (2018)"
   ]
  },
  {
   "cell_type": "code",
   "execution_count": null,
   "metadata": {},
   "outputs": [],
   "source": [
    "percentage_valid_values = 0.8\n",
    "col_year_suicide = \"RATE_18\"\n",
    "col_year_prev = \"RATE_17\"\n",
    "test_df = suicide[[col_year_prev, col_year_suicide, \"MUNCOD\"]]\n",
    "test_df = test_df.rename(columns={col_year_suicide: \"RATE\"})\n",
    "test_df = test_df.rename(columns={col_year_prev: \"PREVIOUS\"})\n",
    "for disease in disease_list:\n",
    "    col_year_disease = \"RATE_17\"\n",
    "    disease_df = pd.read_csv(path + disease + \".csv\", sep=',', index_col=0)\n",
    "    disease_df = disease_df[[col_year_disease, \"MUNCOD\"]]\n",
    "    disease_df = disease_df.rename(columns={col_year_disease: disease})\n",
    "\n",
    "    test_df = pd.merge(disease_df, test_df, left_on=\"MUNCOD\", right_on=\"MUNCOD\", how='right')\n",
    "N = int(test_df.shape[1]*percentage_valid_values)  \n",
    "test_df = test_df.dropna(thresh=N)\n",
    "\n",
    "test_df.head()"
   ]
  },
  {
   "cell_type": "code",
   "execution_count": null,
   "metadata": {},
   "outputs": [],
   "source": [
    "# Fill NaN values with 0\n",
    "test_df = test_df.fillna(0)\n",
    "\n",
    "# Get MUNCOD from UF\n",
    "test_df['UF'] = test_df['MUNCOD'] / 10000\n",
    "test_df['UF'] = test_df['UF'].astype(int)\n",
    "test_df['UF'].replace(dict_uf_cod, inplace=True)\n",
    "dummy = pd.get_dummies(test_df['UF'])\n",
    "test_df = pd.concat([test_df, dummy], axis=1)\n",
    "test_df = test_df.drop(['UF'], axis=1)\n",
    "\n",
    "# Removing outliers\n",
    "test_df = test_df[(np.abs(stats.zscore(test_df[\"RATE\"])) < 3)] "
   ]
  },
  {
   "cell_type": "code",
   "execution_count": null,
   "metadata": {},
   "outputs": [],
   "source": [
    "test_df.to_csv(\"test_data_regression.csv\")"
   ]
  },
  {
   "cell_type": "code",
   "execution_count": null,
   "metadata": {},
   "outputs": [],
   "source": [
    "test_df = pd.read_csv(\"test_data_regression.csv\", index_col=0)"
   ]
  },
  {
   "cell_type": "markdown",
   "metadata": {},
   "source": [
    "# Model"
   ]
  },
  {
   "cell_type": "code",
   "execution_count": 3,
   "metadata": {},
   "outputs": [],
   "source": [
    "df = pd.read_csv(\"df_regression.csv\",index_col=0)\n",
    "train_df = pd.read_csv(\"train_data_regression.csv\", index_col=0)\n",
    "test_df = pd.read_csv(\"test_data_regression.csv\", index_col=0)"
   ]
  },
  {
   "cell_type": "code",
   "execution_count": 4,
   "metadata": {},
   "outputs": [],
   "source": [
    "num_feat = 50\n",
    "corr_min_value = 0.05\n",
    "all_models_scores = {}"
   ]
  },
  {
   "cell_type": "code",
   "execution_count": 5,
   "metadata": {},
   "outputs": [],
   "source": [
    "def cor_feature_selector(X,y,corr_min_value):\n",
    "    cor_list = []\n",
    "    for i in list(X.columns):\n",
    "        cor = np.corrcoef(X[i], y)[0,1]\n",
    "        cor_list.append([i, cor])\n",
    "    cor_feature = [x[0] for x in cor_list if abs(x[1]) > corr_min_value]\n",
    "    print(len(cor_feature), \"selected features (correlation)\")\n",
    "    return cor_feature"
   ]
  },
  {
   "cell_type": "code",
   "execution_count": 6,
   "metadata": {},
   "outputs": [
    {
     "name": "stdout",
     "output_type": "stream",
     "text": [
      "126 selected features (correlation)\n"
     ]
    },
    {
     "data": {
      "text/plain": [
       "['../../Dashboard/Models/sav/mm_y_regression.save']"
      ]
     },
     "execution_count": 6,
     "metadata": {},
     "output_type": "execute_result"
    }
   ],
   "source": [
    "X_train_2018 = train_df.drop(columns=[\"RATE\"])\n",
    "y_train_2018 = train_df[\"RATE\"]\n",
    "\n",
    "selected_cor_features = cor_feature_selector(X_train_2018, y_train_2018, corr_min_value)\n",
    "\n",
    "with open('selected_cor_features', 'wb') as fp:\n",
    "    pickle.dump(selected_cor_features, fp)\n",
    "\n",
    "X_train_2018 = X_train_2018[selected_cor_features]\n",
    "\n",
    "mm_x_2018 = MinMaxScaler()\n",
    "mm_y_2018 = MinMaxScaler()\n",
    "mm_x_2018.fit(X_train_2018)\n",
    "y_train_2018_reshape = y_train_2018.values.reshape(-1, 1)\n",
    "mm_y_2018.fit(y_train_2018_reshape)\n",
    "\n",
    "joblib.dump(mm_x_2018, root + \"Dashboard/Models/sav/mm_x_regression.save\")\n",
    "joblib.dump(mm_y_2018, root + \"Dashboard/Models/sav/mm_y_regression.save\")"
   ]
  },
  {
   "cell_type": "markdown",
   "metadata": {},
   "source": [
    "Defining X and y"
   ]
  },
  {
   "cell_type": "code",
   "execution_count": 7,
   "metadata": {},
   "outputs": [
    {
     "data": {
      "text/plain": [
       "(9640, 341)"
      ]
     },
     "execution_count": 7,
     "metadata": {},
     "output_type": "execute_result"
    }
   ],
   "source": [
    "X = df.drop(columns=[\"RATE\"])\n",
    "y = df[\"RATE\"]\n",
    "\n",
    "X.shape"
   ]
  },
  {
   "cell_type": "markdown",
   "metadata": {},
   "source": [
    "Defining some functions"
   ]
  },
  {
   "cell_type": "code",
   "execution_count": 8,
   "metadata": {},
   "outputs": [],
   "source": [
    "def calcUpMetrics(y_pred,y_test,X_test, score, prefix):\n",
    "    up_df = pd.DataFrame({\"Pred\": y_pred, \"Real\": y_test, \"Previous\": X_test[\"PREVIOUS\"]})\n",
    "    up_df[\"UP\"] = up_df[\"Previous\"] < up_df[\"Real\"]\n",
    "    up_df[\"UP_PRED\"] = up_df[\"Previous\"] < up_df[\"Pred\"]\n",
    "    up_df[\"UP\"] = up_df[\"UP\"].astype(int)\n",
    "    up_df[\"UP_PRED\"] = up_df[\"UP_PRED\"].astype(int)\n",
    "    score[prefix + '_acc'] = metrics.accuracy_score(up_df[\"UP\"], up_df[\"UP_PRED\"])\n",
    "    score[prefix + '_recall_score'] = metrics.recall_score(up_df[\"UP\"], up_df[\"UP_PRED\"])\n",
    "    score[prefix + '_precision_score'] = metrics.precision_score(up_df[\"UP\"], up_df[\"UP_PRED\"])\n",
    "    score[prefix + '_f1_score'] = metrics.f1_score(up_df[\"UP\"], up_df[\"UP_PRED\"])"
   ]
  },
  {
   "cell_type": "code",
   "execution_count": 9,
   "metadata": {},
   "outputs": [],
   "source": [
    "def calculate_metrics(y_train, y_test, y_pred, y_pred_train, scores):\n",
    "    rmse_train = np.sqrt(metrics.mean_squared_error(y_pred_train,y_train))\n",
    "    rmse_test = np.sqrt(metrics.mean_squared_error(y_pred,y_test))\n",
    "    rmse_baseline_train = np.sqrt(metrics.mean_squared_error(X_train[\"PREVIOUS\"],y_train))\n",
    "    rmse_baseline_test = np.sqrt(metrics.mean_squared_error(X_test[\"PREVIOUS\"],y_test))\n",
    "\n",
    "    score = {'rmse_train':rmse_train, \n",
    "             'rmse_test':rmse_test, \n",
    "             'rmse_baseline_train': rmse_baseline_train, \n",
    "             \"rmse_baseline_test\": rmse_baseline_test}    \n",
    "\n",
    "    up_down_train = calcUpMetrics(y_pred_train, y_train,X_train, score, 'up_down_train')\n",
    "    up_down_test = calcUpMetrics(y_pred,y_test, X_test, score, 'up_down_test')\n",
    "\n",
    "    display(score)\n",
    "\n",
    "    scores = scores.append(score, ignore_index=True)\n",
    "    return scores"
   ]
  },
  {
   "cell_type": "code",
   "execution_count": 10,
   "metadata": {},
   "outputs": [],
   "source": [
    "def get_average_feat_importance(feature_importance_list):\n",
    "    final_feat_df = pd.DataFrame()\n",
    "    for i, feat_df in enumerate(feature_importance_list):\n",
    "        feat_df = feat_df.rename(columns={\"Importance\": i})\n",
    "        if final_feat_df.empty:\n",
    "            final_feat_df = feat_df\n",
    "        else:\n",
    "            final_feat_df = pd.merge(final_feat_df, feat_df, on=\"Feature\")\n",
    "    final_feat_df[\"Avg_importance\"] = final_feat_df.sum(axis=1)/(final_feat_df.shape[1] -1)\n",
    "    final_feat_df = final_feat_df[[\"Feature\", \"Avg_importance\"]]\n",
    "    return final_feat_df"
   ]
  },
  {
   "cell_type": "markdown",
   "metadata": {},
   "source": [
    "## LinearRegression"
   ]
  },
  {
   "cell_type": "code",
   "execution_count": 11,
   "metadata": {
    "scrolled": false
   },
   "outputs": [
    {
     "name": "stdout",
     "output_type": "stream",
     "text": [
      "=============== RUN 1 ===============\n",
      "# Feature Selection: correlation\n",
      "124 selected features (correlation)\n",
      "# Fitting the model\n",
      "# Making predictions\n",
      "# Calculating metrics\n"
     ]
    },
    {
     "data": {
      "text/plain": [
       "{'rmse_train': 3.5556264782723215,\n",
       " 'rmse_test': 3.7028201907691285,\n",
       " 'rmse_baseline_train': 4.968428887729926,\n",
       " 'rmse_baseline_test': 4.852756179751097,\n",
       " 'up_down_train_acc': 0.6886670124481328,\n",
       " 'up_down_train_recall_score': 0.7895042041171354,\n",
       " 'up_down_train_precision_score': 0.6191450659390633,\n",
       " 'up_down_train_f1_score': 0.6940231935771632,\n",
       " 'up_down_test_acc': 0.6696058091286307,\n",
       " 'up_down_test_recall_score': 0.7702380952380953,\n",
       " 'up_down_test_precision_score': 0.5930339138405133,\n",
       " 'up_down_test_f1_score': 0.6701191092698084}"
      ]
     },
     "metadata": {},
     "output_type": "display_data"
    },
    {
     "name": "stdout",
     "output_type": "stream",
     "text": [
      "# Get Feature Importance\n",
      "\n",
      "\n",
      "=============== RUN 2 ===============\n",
      "# Feature Selection: correlation\n",
      "124 selected features (correlation)\n",
      "# Fitting the model\n",
      "# Making predictions\n",
      "# Calculating metrics\n"
     ]
    },
    {
     "name": "stderr",
     "output_type": "stream",
     "text": [
      "The feature_perturbation option is now deprecated in favor of using the appropriate masker (maskers.Independent, or maskers.Impute)\n"
     ]
    },
    {
     "data": {
      "text/plain": [
       "{'rmse_train': 3.5871278461993863,\n",
       " 'rmse_test': 3.568938135953533,\n",
       " 'rmse_baseline_train': 4.9829751515185725,\n",
       " 'rmse_baseline_test': 4.792725690796757,\n",
       " 'up_down_train_acc': 0.6824429460580913,\n",
       " 'up_down_train_recall_score': 0.7776798825256975,\n",
       " 'up_down_train_precision_score': 0.6101382488479262,\n",
       " 'up_down_train_f1_score': 0.6837959974176888,\n",
       " 'up_down_test_acc': 0.6945020746887967,\n",
       " 'up_down_test_recall_score': 0.7997737556561086,\n",
       " 'up_down_test_precision_score': 0.6318141197497766,\n",
       " 'up_down_test_f1_score': 0.7059410883674488}"
      ]
     },
     "metadata": {},
     "output_type": "display_data"
    },
    {
     "name": "stdout",
     "output_type": "stream",
     "text": [
      "# Get Feature Importance\n",
      "\n",
      "\n",
      "=============== RUN 3 ===============\n",
      "# Feature Selection: correlation\n"
     ]
    },
    {
     "name": "stderr",
     "output_type": "stream",
     "text": [
      "The feature_perturbation option is now deprecated in favor of using the appropriate masker (maskers.Independent, or maskers.Impute)\n"
     ]
    },
    {
     "name": "stdout",
     "output_type": "stream",
     "text": [
      "127 selected features (correlation)\n",
      "# Fitting the model\n",
      "# Making predictions\n",
      "# Calculating metrics\n"
     ]
    },
    {
     "data": {
      "text/plain": [
       "{'rmse_train': 3.559240811049853,\n",
       " 'rmse_test': 3.6596371670538894,\n",
       " 'rmse_baseline_train': 4.926016728480818,\n",
       " 'rmse_baseline_test': 5.022730507675877,\n",
       " 'up_down_train_acc': 0.6858143153526971,\n",
       " 'up_down_train_recall_score': 0.7796312554872695,\n",
       " 'up_down_train_precision_score': 0.6146746654360867,\n",
       " 'up_down_train_f1_score': 0.6873951748161528,\n",
       " 'up_down_test_acc': 0.6903526970954357,\n",
       " 'up_down_test_recall_score': 0.7729357798165137,\n",
       " 'up_down_test_precision_score': 0.6281453867660765,\n",
       " 'up_down_test_f1_score': 0.6930591259640103}"
      ]
     },
     "metadata": {},
     "output_type": "display_data"
    },
    {
     "name": "stdout",
     "output_type": "stream",
     "text": [
      "# Get Feature Importance\n",
      "\n",
      "\n",
      "=============== RUN 4 ===============\n",
      "# Feature Selection: correlation\n",
      "119 selected features (correlation)\n",
      "# Fitting the model\n",
      "# Making predictions\n",
      "# Calculating metrics\n"
     ]
    },
    {
     "name": "stderr",
     "output_type": "stream",
     "text": [
      "The feature_perturbation option is now deprecated in favor of using the appropriate masker (maskers.Independent, or maskers.Impute)\n"
     ]
    },
    {
     "data": {
      "text/plain": [
       "{'rmse_train': 3.54138852651426,\n",
       " 'rmse_test': 3.7211292963254987,\n",
       " 'rmse_baseline_train': 4.930784973910473,\n",
       " 'rmse_baseline_test': 5.003980730784661,\n",
       " 'up_down_train_acc': 0.6893153526970954,\n",
       " 'up_down_train_recall_score': 0.7875,\n",
       " 'up_down_train_precision_score': 0.6193415637860082,\n",
       " 'up_down_train_f1_score': 0.6933708727924239,\n",
       " 'up_down_test_acc': 0.6768672199170125,\n",
       " 'up_down_test_recall_score': 0.7750294464075382,\n",
       " 'up_down_test_precision_score': 0.6036697247706422,\n",
       " 'up_down_test_f1_score': 0.6787003610108303}"
      ]
     },
     "metadata": {},
     "output_type": "display_data"
    },
    {
     "name": "stdout",
     "output_type": "stream",
     "text": [
      "# Get Feature Importance\n",
      "\n",
      "\n",
      "=============== RUN 5 ===============\n"
     ]
    },
    {
     "name": "stderr",
     "output_type": "stream",
     "text": [
      "The feature_perturbation option is now deprecated in favor of using the appropriate masker (maskers.Independent, or maskers.Impute)\n"
     ]
    },
    {
     "name": "stdout",
     "output_type": "stream",
     "text": [
      "# Feature Selection: correlation\n",
      "125 selected features (correlation)\n",
      "# Fitting the model\n",
      "# Making predictions\n",
      "# Calculating metrics\n"
     ]
    },
    {
     "data": {
      "text/plain": [
       "{'rmse_train': 3.574069170427605,\n",
       " 'rmse_test': 3.5903681667897707,\n",
       " 'rmse_baseline_train': 4.919021930072528,\n",
       " 'rmse_baseline_test': 5.050077028688922,\n",
       " 'up_down_train_acc': 0.685554979253112,\n",
       " 'up_down_train_recall_score': 0.7886792452830189,\n",
       " 'up_down_train_precision_score': 0.6155414589941096,\n",
       " 'up_down_train_f1_score': 0.6914365695381091,\n",
       " 'up_down_test_acc': 0.678941908713693,\n",
       " 'up_down_test_recall_score': 0.7760663507109005,\n",
       " 'up_down_test_precision_score': 0.6036866359447005,\n",
       " 'up_down_test_f1_score': 0.6791083462934162}"
      ]
     },
     "metadata": {},
     "output_type": "display_data"
    },
    {
     "name": "stdout",
     "output_type": "stream",
     "text": [
      "# Get Feature Importance\n",
      "\n",
      "\n",
      "=============== SUMMARY LinearRegression ===============\n",
      "# Average Metrics\n",
      "rmse_baseline_test               4.944454\n",
      "rmse_baseline_train              4.945446\n",
      "rmse_test                        3.648579\n",
      "rmse_train                       3.563491\n",
      "up_down_test_acc                 0.682054\n",
      "up_down_test_f1_score            0.685386\n",
      "up_down_test_precision_score     0.612070\n",
      "up_down_test_recall_score        0.778809\n",
      "up_down_train_acc                0.686359\n",
      "up_down_train_f1_score           0.690004\n",
      "up_down_train_precision_score    0.615768\n",
      "up_down_train_recall_score       0.784599\n",
      "dtype: float64\n",
      "# Average Feature Importance\n"
     ]
    },
    {
     "name": "stderr",
     "output_type": "stream",
     "text": [
      "The feature_perturbation option is now deprecated in favor of using the appropriate masker (maskers.Independent, or maskers.Impute)\n"
     ]
    },
    {
     "name": "stdout",
     "output_type": "stream",
     "text": [
      "\n",
      "Total run time: 1.237544059753418\n",
      "\n",
      "=============== SAVE Y_TEST_PRED ===============\n"
     ]
    }
   ],
   "source": [
    "start = time.time()\n",
    "kf = KFold(n_splits = 5, shuffle = True, random_state = 42)\n",
    "scores = pd.DataFrame()\n",
    "count = 1\n",
    "\n",
    "feature_importance_coef_list = []\n",
    "feature_importance_shap_list = []\n",
    "\n",
    "for train_index, test_index in kf.split(X):\n",
    "    print(\"=============== RUN {} ===============\".format(count))\n",
    "    X_train, X_test = X.iloc[train_index], X.iloc[test_index]\n",
    "    y_train, y_test = y.iloc[train_index], y.iloc[test_index]\n",
    "    \n",
    "    print(\"# Feature Selection: correlation\")\n",
    "    selected_cor_features = cor_feature_selector(X_train,y_train,corr_min_value)\n",
    "    X_train = X_train[selected_cor_features]\n",
    "    X_test = X_test[selected_cor_features]\n",
    "    \n",
    "    mm_x = MinMaxScaler()\n",
    "    mm_y = MinMaxScaler()\n",
    "    mm_x.fit(X_train)\n",
    "\n",
    "    y_reshape = y_train.values.reshape(-1, 1)\n",
    "    y_df = y_train.to_frame()\n",
    "    mm_y.fit(y_reshape)\n",
    "    \n",
    "    X_train_transf = pd.DataFrame(mm_x.transform(X_train), index=X_train.index, columns=X_train.columns)\n",
    "    X_test_transf = pd.DataFrame(mm_x.transform(X_test), index=X_test.index, columns=X_test.columns)\n",
    "    y_train_transf = pd.DataFrame(mm_y.transform(y_reshape), index=y_df.index, columns=y_df.columns)\n",
    "    \n",
    "    print(\"# Fitting the model\")\n",
    "    regressor = LinearRegression()\n",
    "    regressor.fit(X_train_transf, y_train_transf.values.ravel())\n",
    "    \n",
    "    print(\"# Making predictions\")\n",
    "    y_pred = regressor.predict(X_test_transf) \n",
    "    y_pred_train = regressor.predict(X_train_transf)\n",
    "    y_pred_train_reshaped = mm_y.inverse_transform(y_pred_train.reshape(-1,1))\n",
    "    y_pred_reshaped = mm_y.inverse_transform(y_pred.reshape(-1,1))\n",
    "    y_train_reshaped = mm_y.inverse_transform(y_train_transf.values)\n",
    "    \n",
    "    print(\"# Calculating metrics\")\n",
    "    scores = calculate_metrics(y_train_reshaped.ravel(), y_test, y_pred_reshaped.ravel(), y_pred_train_reshaped.ravel(), scores)\n",
    "    \n",
    "    print(\"# Get Feature Importance\")\n",
    "    feature_importance_coef_list.append(pd.DataFrame({\"Feature\": X_train_transf.columns, \"Importance\": regressor.coef_}).sort_values(by=\"Importance\", ascending=False))\n",
    "\n",
    "    explainer = shap.LinearExplainer(regressor, X_train_transf)\n",
    "    shap_values = explainer.shap_values(X_test_transf)\n",
    "    vals= np.abs(shap_values).mean(0)\n",
    "    feature_importance_shap = pd.DataFrame(list(zip(X_test_transf.columns,vals)),columns=['Feature','Importance'])\n",
    "    feature_importance_shap.sort_values(by=['Importance'],ascending=False,inplace=True)\n",
    "    feature_importance_shap_list.append(feature_importance_shap)\n",
    "                                        \n",
    "    print(\"\\n\")\n",
    "    count += 1\n",
    "print(\"=============== SUMMARY LinearRegression ===============\")\n",
    "print(\"# Average Metrics\")\n",
    "print(scores.mean())\n",
    "all_models_scores[\"LinearRegression\"] = scores\n",
    "                                   \n",
    "print(\"# Average Feature Importance\")\n",
    "final_feat_df_coef = get_average_feat_importance(feature_importance_coef_list)\n",
    "final_feat_df_coef.to_csv(\"fi_coef_linear_regression.csv\")\n",
    "final_feat_df_shap = get_average_feat_importance(feature_importance_shap_list)\n",
    "final_feat_df_shap.to_csv(\"fi_shap_linear_regression.csv\")\n",
    "                                   \n",
    "end = time.time()\n",
    "\n",
    "print(\"\\nTotal run time:\", end-start)\n",
    "\n",
    "print(\"\\n=============== SAVE Y_TEST_PRED ===============\")\n",
    "y_test_pred = pd.DataFrame({\"previous\": X_test[\"PREVIOUS\"],\"y_test\": y_test, \"y_pred\": y_pred})\n",
    "y_test_pred.to_csv('y_test_pred_LinearRegression.csv')"
   ]
  },
  {
   "cell_type": "code",
   "execution_count": 12,
   "metadata": {},
   "outputs": [],
   "source": [
    "explainer = shap.LinearExplainer(regressor, X_train_transf)\n",
    "shap_values = explainer.shap_values(X_test_transf)\n",
    "vals= np.abs(shap_values).mean(0)\n",
    "feature_importance_shap = pd.DataFrame(list(zip(X_test_transf.columns,vals)),columns=['Feature','Importance'])\n",
    "feature_importance_shap.sort_values(by=['Importance'],ascending=False,inplace=True)\n",
    "feature_importance_shap_list.append(feature_importance_shap)\n"
   ]
  },
  {
   "cell_type": "code",
   "execution_count": 13,
   "metadata": {},
   "outputs": [
    {
     "name": "stdout",
     "output_type": "stream",
     "text": [
      "# SHAP analysis\n"
     ]
    },
    {
     "data": {
      "image/png": "[encoded data removed]",
      "text/plain": [
       "<Figure size 576x684 with 2 Axes>"
      ]
     },
     "metadata": {
      "needs_background": "light"
     },
     "output_type": "display_data"
    }
   ],
   "source": [
    "print(\"# SHAP analysis\")\n",
    "explainer = shap.LinearExplainer(regressor, X_train_transf)\n",
    "shap_values = explainer.shap_values(X_test_transf)\n",
    "shap.summary_plot(shap_values, X_test_transf, feature_names=X_test_transf.columns, show=False)\n",
    "plt.title(\"Análise SHAP para Regressão Linear\")\n",
    "plt.savefig(\"linear_regression_shap.png\", bbox_inches = \"tight\")"
   ]
  },
  {
   "cell_type": "code",
   "execution_count": 14,
   "metadata": {},
   "outputs": [],
   "source": [
    "y_df = y_train_2018.to_frame()\n",
    "\n",
    "X_train = pd.DataFrame(mm_x_2018.transform(X_train_2018), index=X_train_2018.index, columns=X_train_2018.columns)\n",
    "y_train = pd.DataFrame(mm_y_2018.transform(y_train_2018_reshape), index=y_df.index, columns=y_df.columns)\n",
    "\n",
    "regressor = LinearRegression()\n",
    "regressor.fit(X_train, y_train.values.ravel())\n",
    "\n",
    "filename = root + 'Dashboard/Models/sav/linear_regression.sav'\n",
    "pickle.dump(regressor, open(filename, 'wb'))"
   ]
  },
  {
   "cell_type": "markdown",
   "metadata": {},
   "source": [
    "## ElasticNet"
   ]
  },
  {
   "cell_type": "code",
   "execution_count": 15,
   "metadata": {
    "scrolled": false
   },
   "outputs": [
    {
     "name": "stdout",
     "output_type": "stream",
     "text": [
      "=============== RUN 1 ===============\n",
      "# Feature Selection: correlation\n",
      "124 selected features (correlation)\n",
      "# Bayesian Optimization\n"
     ]
    },
    {
     "name": "stderr",
     "output_type": "stream",
     "text": [
      "The objective has been evaluated at this point before.\n",
      "The objective has been evaluated at this point before.\n"
     ]
    },
    {
     "name": "stdout",
     "output_type": "stream",
     "text": [
      "# Fitting the model\n",
      "# Making predictions\n",
      "# Calculating metrics\n"
     ]
    },
    {
     "data": {
      "text/plain": [
       "{'rmse_train': 3.620975811939771,\n",
       " 'rmse_test': 3.667592585712186,\n",
       " 'rmse_baseline_train': 4.968428887729926,\n",
       " 'rmse_baseline_test': 4.852756179751097,\n",
       " 'up_down_train_acc': 0.6816649377593361,\n",
       " 'up_down_train_recall_score': 0.7915337779066396,\n",
       " 'up_down_train_precision_score': 0.6112852664576802,\n",
       " 'up_down_train_f1_score': 0.689829437776374,\n",
       " 'up_down_test_acc': 0.6623443983402489,\n",
       " 'up_down_test_recall_score': 0.775,\n",
       " 'up_down_test_precision_score': 0.5849056603773585,\n",
       " 'up_down_test_f1_score': 0.6666666666666666}"
      ]
     },
     "metadata": {},
     "output_type": "display_data"
    },
    {
     "name": "stdout",
     "output_type": "stream",
     "text": [
      "# Get Feature Importance\n",
      "\n",
      "\n",
      "=============== RUN 2 ===============\n",
      "# Feature Selection: correlation\n",
      "124 selected features (correlation)\n",
      "# Bayesian Optimization\n"
     ]
    },
    {
     "name": "stderr",
     "output_type": "stream",
     "text": [
      "The feature_perturbation option is now deprecated in favor of using the appropriate masker (maskers.Independent, or maskers.Impute)\n",
      "The objective has been evaluated at this point before.\n",
      "The objective has been evaluated at this point before.\n"
     ]
    },
    {
     "name": "stdout",
     "output_type": "stream",
     "text": [
      "# Fitting the model\n",
      "# Making predictions\n",
      "# Calculating metrics\n"
     ]
    },
    {
     "data": {
      "text/plain": [
       "{'rmse_train': 3.654889032880439,\n",
       " 'rmse_test': 3.5793773913273643,\n",
       " 'rmse_baseline_train': 4.9829751515185725,\n",
       " 'rmse_baseline_test': 4.792725690796757,\n",
       " 'up_down_train_acc': 0.67673755186722,\n",
       " 'up_down_train_recall_score': 0.7861967694566814,\n",
       " 'up_down_train_precision_score': 0.6026564610535795,\n",
       " 'up_down_train_f1_score': 0.6822989677583791,\n",
       " 'up_down_test_acc': 0.6820539419087137,\n",
       " 'up_down_test_recall_score': 0.7986425339366516,\n",
       " 'up_down_test_precision_score': 0.6187554776511832,\n",
       " 'up_down_test_f1_score': 0.697283950617284}"
      ]
     },
     "metadata": {},
     "output_type": "display_data"
    },
    {
     "name": "stdout",
     "output_type": "stream",
     "text": [
      "# Get Feature Importance\n",
      "\n",
      "\n",
      "=============== RUN 3 ===============\n",
      "# Feature Selection: correlation\n",
      "127 selected features (correlation)\n",
      "# Bayesian Optimization\n"
     ]
    },
    {
     "name": "stderr",
     "output_type": "stream",
     "text": [
      "The feature_perturbation option is now deprecated in favor of using the appropriate masker (maskers.Independent, or maskers.Impute)\n",
      "The objective has been evaluated at this point before.\n"
     ]
    },
    {
     "name": "stdout",
     "output_type": "stream",
     "text": [
      "# Fitting the model\n",
      "# Making predictions\n",
      "# Calculating metrics\n"
     ]
    },
    {
     "data": {
      "text/plain": [
       "{'rmse_train': 3.6178607920123556,\n",
       " 'rmse_test': 3.6775218837493333,\n",
       " 'rmse_baseline_train': 4.926016728480818,\n",
       " 'rmse_baseline_test': 5.022730507675877,\n",
       " 'up_down_train_acc': 0.6773858921161826,\n",
       " 'up_down_train_recall_score': 0.7837284167398303,\n",
       " 'up_down_train_precision_score': 0.6049243279873503,\n",
       " 'up_down_train_f1_score': 0.6828148903620601,\n",
       " 'up_down_test_acc': 0.6867219917012448,\n",
       " 'up_down_test_recall_score': 0.7935779816513762,\n",
       " 'up_down_test_precision_score': 0.6200716845878136,\n",
       " 'up_down_test_f1_score': 0.6961770623742455}"
      ]
     },
     "metadata": {},
     "output_type": "display_data"
    },
    {
     "name": "stdout",
     "output_type": "stream",
     "text": [
      "# Get Feature Importance\n",
      "\n",
      "\n",
      "=============== RUN 4 ===============\n",
      "# Feature Selection: correlation\n",
      "119 selected features (correlation)\n",
      "# Bayesian Optimization\n"
     ]
    },
    {
     "name": "stderr",
     "output_type": "stream",
     "text": [
      "The feature_perturbation option is now deprecated in favor of using the appropriate masker (maskers.Independent, or maskers.Impute)\n",
      "The objective has been evaluated at this point before.\n",
      "The objective has been evaluated at this point before.\n"
     ]
    },
    {
     "name": "stdout",
     "output_type": "stream",
     "text": [
      "# Fitting the model\n",
      "# Making predictions\n",
      "# Calculating metrics\n"
     ]
    },
    {
     "data": {
      "text/plain": [
       "{'rmse_train': 3.606603714740167,\n",
       " 'rmse_test': 3.7290059457230416,\n",
       " 'rmse_baseline_train': 4.930784973910473,\n",
       " 'rmse_baseline_test': 5.003980730784661,\n",
       " 'up_down_train_acc': 0.6795902489626556,\n",
       " 'up_down_train_recall_score': 0.7909883720930233,\n",
       " 'up_down_train_precision_score': 0.608316566063045,\n",
       " 'up_down_train_f1_score': 0.6877290534563377,\n",
       " 'up_down_test_acc': 0.6742738589211619,\n",
       " 'up_down_test_recall_score': 0.7868080094228505,\n",
       " 'up_down_test_precision_score': 0.5991031390134529,\n",
       " 'up_down_test_f1_score': 0.6802443991853361}"
      ]
     },
     "metadata": {},
     "output_type": "display_data"
    },
    {
     "name": "stdout",
     "output_type": "stream",
     "text": [
      "# Get Feature Importance\n",
      "\n",
      "\n",
      "=============== RUN 5 ===============\n",
      "# Feature Selection: correlation\n",
      "125 selected features (correlation)\n",
      "# Bayesian Optimization\n"
     ]
    },
    {
     "name": "stderr",
     "output_type": "stream",
     "text": [
      "The feature_perturbation option is now deprecated in favor of using the appropriate masker (maskers.Independent, or maskers.Impute)\n",
      "The objective has been evaluated at this point before.\n",
      "The objective has been evaluated at this point before.\n"
     ]
    },
    {
     "name": "stdout",
     "output_type": "stream",
     "text": [
      "# Fitting the model\n",
      "# Making predictions\n",
      "# Calculating metrics\n"
     ]
    },
    {
     "data": {
      "text/plain": [
       "{'rmse_train': 3.6388695420209753,\n",
       " 'rmse_test': 3.6033942836879422,\n",
       " 'rmse_baseline_train': 4.919021930072528,\n",
       " 'rmse_baseline_test': 5.050077028688922,\n",
       " 'up_down_train_acc': 0.6782935684647303,\n",
       " 'up_down_train_recall_score': 0.7959361393323657,\n",
       " 'up_down_train_precision_score': 0.606637168141593,\n",
       " 'up_down_train_f1_score': 0.688512241054614,\n",
       " 'up_down_test_acc': 0.678941908713693,\n",
       " 'up_down_test_recall_score': 0.7879146919431279,\n",
       " 'up_down_test_precision_score': 0.6018099547511312,\n",
       " 'up_down_test_f1_score': 0.6824012314007182}"
      ]
     },
     "metadata": {},
     "output_type": "display_data"
    },
    {
     "name": "stdout",
     "output_type": "stream",
     "text": [
      "# Get Feature Importance\n",
      "\n",
      "\n",
      "=============== SUMMARY LinearRegression ===============\n",
      "# Average Metrics\n",
      "rmse_baseline_test               4.944454\n",
      "rmse_baseline_train              4.945446\n",
      "rmse_test                        3.651378\n",
      "rmse_train                       3.627840\n",
      "up_down_test_acc                 0.676867\n",
      "up_down_test_f1_score            0.684555\n",
      "up_down_test_precision_score     0.604929\n",
      "up_down_test_recall_score        0.788389\n",
      "up_down_train_acc                0.678734\n",
      "up_down_train_f1_score           0.686237\n",
      "up_down_train_precision_score    0.606764\n",
      "up_down_train_recall_score       0.789677\n",
      "dtype: float64\n",
      "# Average Feature Importance\n",
      "\n",
      "Total run time: 8.63489294052124\n",
      "\n",
      "=============== SAVE Y_TEST_PRED ===============\n"
     ]
    },
    {
     "name": "stderr",
     "output_type": "stream",
     "text": [
      "The feature_perturbation option is now deprecated in favor of using the appropriate masker (maskers.Independent, or maskers.Impute)\n"
     ]
    }
   ],
   "source": [
    "start = time.time()\n",
    "kf = KFold(n_splits = 5, shuffle = True, random_state = 42)\n",
    "scores = pd.DataFrame()\n",
    "count = 1\n",
    "\n",
    "feature_importance_coef_list = []\n",
    "feature_importance_shap_list = []\n",
    "\n",
    "for train_index, test_index in kf.split(X):\n",
    "    print(\"=============== RUN {} ===============\".format(count))\n",
    "    X_train, X_test = X.iloc[train_index], X.iloc[test_index]\n",
    "    y_train, y_test = y.iloc[train_index], y.iloc[test_index]\n",
    "    \n",
    "    print(\"# Feature Selection: correlation\")\n",
    "    selected_cor_features = cor_feature_selector(X_train,y_train,corr_min_value)\n",
    "    X_train = X_train[selected_cor_features]\n",
    "    X_test = X_test[selected_cor_features]\n",
    "    \n",
    "    mm_x = MinMaxScaler()\n",
    "    mm_y = MinMaxScaler()\n",
    "    mm_x.fit(X_train)\n",
    "\n",
    "    y_reshape = y_train.values.reshape(-1, 1)\n",
    "    y_df = y_train.to_frame()\n",
    "    mm_y.fit(y_reshape)\n",
    "\n",
    "    X_train_transf = pd.DataFrame(mm_x.transform(X_train), index=X_train.index, columns=X_train.columns)\n",
    "    X_test_transf = pd.DataFrame(mm_x.transform(X_test), index=X_test.index, columns=X_test.columns)\n",
    "    y_train_transf = pd.DataFrame(mm_y.transform(y_reshape), index=y_df.index, columns=y_df.columns)\n",
    "    \n",
    "    print(\"# Bayesian Optimization\")\n",
    "    def train_model(params):\n",
    "        alpha = params[0]\n",
    "        l1_ratio = params[1]\n",
    "\n",
    "        xf_train_params,xf_val,yf_train_params,yf_val = train_test_split(X_train,y_train,test_size=0.33,random_state=42)\n",
    "\n",
    "        model = ElasticNet(random_state=42, alpha=alpha, l1_ratio=l1_ratio, tol=0.5)\n",
    "\n",
    "        model.fit(xf_train_params, yf_train_params)\n",
    "        yf_pred = model.predict(xf_val)\n",
    "\n",
    "        return np.sqrt(metrics.mean_squared_error(yf_val, yf_pred))\n",
    "    space = [\n",
    "        (0.01,100), #alpha\n",
    "        (0,1),      #l1_ratio\n",
    "    ]\n",
    "    resultado_gp = gp_minimize(train_model, space, random_state=42, verbose=0, n_calls=15, n_random_starts=10)\n",
    "    \n",
    "    print(\"# Fitting the model\")\n",
    "    regressor = ElasticNet(random_state=42, alpha=resultado_gp.x[0], l1_ratio=resultado_gp.x[1], tol=0.5)\n",
    "    regressor.fit(X_train_transf, y_train_transf.values.ravel())\n",
    "    \n",
    "    print(\"# Making predictions\")\n",
    "    y_pred = regressor.predict(X_test_transf) \n",
    "    y_pred_train = regressor.predict(X_train_transf)\n",
    "    y_pred_train_reshaped = mm_y.inverse_transform(y_pred_train.reshape(-1,1))\n",
    "    y_pred_reshaped = mm_y.inverse_transform(y_pred.reshape(-1,1))\n",
    "    y_train_reshaped = mm_y.inverse_transform(y_train_transf.values)\n",
    "    \n",
    "    print(\"# Calculating metrics\")\n",
    "    scores = calculate_metrics(y_train_reshaped.ravel(), y_test, y_pred_reshaped.ravel(), y_pred_train_reshaped.ravel(), scores)\n",
    "    \n",
    "    print(\"# Get Feature Importance\")\n",
    "    feature_importance_coef_list.append(pd.DataFrame({\"Feature\": X_train_transf.columns, \"Importance\": regressor.coef_}).sort_values(by=\"Importance\", ascending=False))\n",
    "\n",
    "    explainer = shap.LinearExplainer(regressor, X_train_transf)\n",
    "    shap_values = explainer.shap_values(X_test_transf)\n",
    "    vals= np.abs(shap_values).mean(0)\n",
    "    feature_importance_shap = pd.DataFrame(list(zip(X_test_transf.columns,vals)),columns=['Feature','Importance'])\n",
    "    feature_importance_shap.sort_values(by=['Importance'],ascending=False,inplace=True)\n",
    "    feature_importance_shap_list.append(feature_importance_shap)\n",
    "                                        \n",
    "    print(\"\\n\")\n",
    "    count += 1\n",
    "print(\"=============== SUMMARY LinearRegression ===============\")\n",
    "print(\"# Average Metrics\")\n",
    "print(scores.mean())\n",
    "all_models_scores[\"ElasticNet\"] = scores\n",
    "                                   \n",
    "print(\"# Average Feature Importance\")\n",
    "final_feat_df_coef = get_average_feat_importance(feature_importance_coef_list)\n",
    "final_feat_df_coef.to_csv(\"fi_coef_elastic_net.csv\")\n",
    "final_feat_df_shap = get_average_feat_importance(feature_importance_shap_list)\n",
    "final_feat_df_shap.to_csv(\"fi_shap_elastic_net.csv\")\n",
    "                                   \n",
    "end = time.time()\n",
    "\n",
    "print(\"\\nTotal run time:\", end-start)\n",
    "\n",
    "print(\"\\n=============== SAVE Y_TEST_PRED ===============\")\n",
    "y_test_pred = pd.DataFrame({\"previous\": X_test[\"PREVIOUS\"],\"y_test\": y_test, \"y_pred\": y_pred})\n",
    "y_test_pred.to_csv('y_test_pred_ElasticNet.csv')"
   ]
  },
  {
   "cell_type": "code",
   "execution_count": 16,
   "metadata": {},
   "outputs": [
    {
     "name": "stdout",
     "output_type": "stream",
     "text": [
      "# SHAP analysis\n"
     ]
    },
    {
     "data": {
      "image/png": "[encoded data removed]",
      "text/plain": [
       "<Figure size 576x684 with 2 Axes>"
      ]
     },
     "metadata": {
      "needs_background": "light"
     },
     "output_type": "display_data"
    }
   ],
   "source": [
    "print(\"# SHAP analysis\")\n",
    "explainer = shap.LinearExplainer(regressor, X_train_transf)\n",
    "shap_values = explainer.shap_values(X_test_transf)\n",
    "shap.summary_plot(shap_values, X_test_transf, feature_names=X_test_transf.columns, show=False)\n",
    "plt.title(\"Análise SHAP para ElasticNet\")\n",
    "plt.savefig(\"elasticnet_regression_shap.png\", bbox_inches = \"tight\")"
   ]
  },
  {
   "cell_type": "code",
   "execution_count": 17,
   "metadata": {},
   "outputs": [],
   "source": [
    "y_df = y_train_2018.to_frame()\n",
    "\n",
    "X_train = pd.DataFrame(mm_x_2018.transform(X_train_2018), index=X_train_2018.index, columns=X_train_2018.columns)\n",
    "y_train = pd.DataFrame(mm_y_2018.transform(y_train_2018_reshape), index=y_df.index, columns=y_df.columns)\n",
    "\n",
    "def train_model(params):\n",
    "    alpha = params[0]\n",
    "    l1_ratio = params[1]\n",
    "\n",
    "    xf_train_params,xf_val,yf_train_params,yf_val = train_test_split(X_train,y_train,test_size=0.33,random_state=42)\n",
    "\n",
    "    model = ElasticNet(random_state=42, alpha=alpha, l1_ratio=l1_ratio, tol=0.5)\n",
    "\n",
    "    model.fit(xf_train_params, yf_train_params)\n",
    "    yf_pred = model.predict(xf_val)\n",
    "\n",
    "    return np.sqrt(metrics.mean_squared_error(yf_val, yf_pred))\n",
    "space = [\n",
    "    (0.01,100), #alpha\n",
    "    (0,1),      #l1_ratio\n",
    "]\n",
    "resultado_gp = gp_minimize(train_model, space, random_state=42, verbose=0, n_calls=15, n_random_starts=10)\n",
    "\n",
    "regressor = ElasticNet(random_state=42, alpha=resultado_gp.x[0], l1_ratio=resultado_gp.x[1], tol=0.5)\n",
    "regressor.fit(X_train, y_train.values.ravel())\n",
    "\n",
    "filename = root + 'Dashboard/Models/sav/elastic_net_regression.sav'\n",
    "pickle.dump(regressor, open(filename, 'wb'))"
   ]
  },
  {
   "cell_type": "markdown",
   "metadata": {},
   "source": [
    "## Random Forest"
   ]
  },
  {
   "cell_type": "code",
   "execution_count": 22,
   "metadata": {
    "scrolled": false
   },
   "outputs": [
    {
     "name": "stdout",
     "output_type": "stream",
     "text": [
      "=============== RUN 1 ===============\n",
      "# Feature Selection: correlation\n",
      "124 selected features (correlation)\n",
      "# Bayesian Optimization\n",
      "# Fitting the model\n",
      "# Making predictions\n",
      "# Calculating metrics\n"
     ]
    },
    {
     "data": {
      "text/plain": [
       "{'rmse_train': 1.5453095976914502,\n",
       " 'rmse_test': 3.646251590029542,\n",
       " 'rmse_baseline_train': 4.968428887729926,\n",
       " 'rmse_baseline_test': 4.852756179751097,\n",
       " 'up_down_train_acc': 0.8582728215767634,\n",
       " 'up_down_train_recall_score': 0.9588286459843433,\n",
       " 'up_down_train_precision_score': 0.77665570690465,\n",
       " 'up_down_train_f1_score': 0.8581808745296484,\n",
       " 'up_down_test_acc': 0.6535269709543569,\n",
       " 'up_down_test_recall_score': 0.7821428571428571,\n",
       " 'up_down_test_precision_score': 0.5753064798598949,\n",
       " 'up_down_test_f1_score': 0.6629667003027245}"
      ]
     },
     "metadata": {},
     "output_type": "display_data"
    },
    {
     "name": "stdout",
     "output_type": "stream",
     "text": [
      "# Get Feature Importance\n",
      "\n",
      "\n",
      "=============== RUN 2 ===============\n",
      "# Feature Selection: correlation\n",
      "124 selected features (correlation)\n",
      "# Bayesian Optimization\n",
      "# Fitting the model\n",
      "# Making predictions\n",
      "# Calculating metrics\n"
     ]
    },
    {
     "data": {
      "text/plain": [
       "{'rmse_train': 1.677651165800043,\n",
       " 'rmse_test': 3.5317366757855844,\n",
       " 'rmse_baseline_train': 4.9829751515185725,\n",
       " 'rmse_baseline_test': 4.792725690796757,\n",
       " 'up_down_train_acc': 0.8489367219917012,\n",
       " 'up_down_train_recall_score': 0.9491923641703377,\n",
       " 'up_down_train_precision_score': 0.7651515151515151,\n",
       " 'up_down_train_f1_score': 0.8472932232271595,\n",
       " 'up_down_test_acc': 0.6804979253112033,\n",
       " 'up_down_test_recall_score': 0.8076923076923077,\n",
       " 'up_down_test_precision_score': 0.6155172413793103,\n",
       " 'up_down_test_f1_score': 0.6986301369863014}"
      ]
     },
     "metadata": {},
     "output_type": "display_data"
    },
    {
     "name": "stdout",
     "output_type": "stream",
     "text": [
      "# Get Feature Importance\n",
      "\n",
      "\n",
      "=============== RUN 3 ===============\n",
      "# Feature Selection: correlation\n",
      "127 selected features (correlation)\n",
      "# Bayesian Optimization\n",
      "# Fitting the model\n",
      "# Making predictions\n",
      "# Calculating metrics\n"
     ]
    },
    {
     "data": {
      "text/plain": [
       "{'rmse_train': 1.6069895592273595,\n",
       " 'rmse_test': 3.633838250064055,\n",
       " 'rmse_baseline_train': 4.926016728480818,\n",
       " 'rmse_baseline_test': 5.022730507675877,\n",
       " 'up_down_train_acc': 0.8517894190871369,\n",
       " 'up_down_train_recall_score': 0.9520046824700029,\n",
       " 'up_down_train_precision_score': 0.7686672967863895,\n",
       " 'up_down_train_f1_score': 0.8505687017910839,\n",
       " 'up_down_test_acc': 0.6841286307053942,\n",
       " 'up_down_test_recall_score': 0.8119266055045872,\n",
       " 'up_down_test_precision_score': 0.614050303555941,\n",
       " 'up_down_test_f1_score': 0.6992592592592594}"
      ]
     },
     "metadata": {},
     "output_type": "display_data"
    },
    {
     "name": "stdout",
     "output_type": "stream",
     "text": [
      "# Get Feature Importance\n",
      "\n",
      "\n",
      "=============== RUN 4 ===============\n",
      "# Feature Selection: correlation\n",
      "119 selected features (correlation)\n",
      "# Bayesian Optimization\n",
      "# Fitting the model\n",
      "# Making predictions\n",
      "# Calculating metrics\n"
     ]
    },
    {
     "data": {
      "text/plain": [
       "{'rmse_train': 1.6505783259567823,\n",
       " 'rmse_test': 3.684400787756878,\n",
       " 'rmse_baseline_train': 4.930784973910473,\n",
       " 'rmse_baseline_test': 5.003980730784661,\n",
       " 'up_down_train_acc': 0.847899377593361,\n",
       " 'up_down_train_recall_score': 0.9468023255813953,\n",
       " 'up_down_train_precision_score': 0.7668942783141041,\n",
       " 'up_down_train_f1_score': 0.8474047092493819,\n",
       " 'up_down_test_acc': 0.6737551867219918,\n",
       " 'up_down_test_recall_score': 0.7950530035335689,\n",
       " 'up_down_test_precision_score': 0.5973451327433629,\n",
       " 'up_down_test_f1_score': 0.6821627084386054}"
      ]
     },
     "metadata": {},
     "output_type": "display_data"
    },
    {
     "name": "stdout",
     "output_type": "stream",
     "text": [
      "# Get Feature Importance\n",
      "\n",
      "\n",
      "=============== RUN 5 ===============\n",
      "# Feature Selection: correlation\n",
      "125 selected features (correlation)\n",
      "# Bayesian Optimization\n",
      "# Fitting the model\n",
      "# Making predictions\n",
      "# Calculating metrics\n"
     ]
    },
    {
     "data": {
      "text/plain": [
       "{'rmse_train': 1.4753249583843797,\n",
       " 'rmse_test': 3.5614896508687734,\n",
       " 'rmse_baseline_train': 4.919021930072528,\n",
       " 'rmse_baseline_test': 5.050077028688922,\n",
       " 'up_down_train_acc': 0.8690352697095436,\n",
       " 'up_down_train_recall_score': 0.9718432510885341,\n",
       " 'up_down_train_precision_score': 0.7857310490495188,\n",
       " 'up_down_train_f1_score': 0.8689332987282636,\n",
       " 'up_down_test_acc': 0.6779045643153527,\n",
       " 'up_down_test_recall_score': 0.8092417061611374,\n",
       " 'up_down_test_precision_score': 0.5975503062117236,\n",
       " 'up_down_test_f1_score': 0.6874685455460493}"
      ]
     },
     "metadata": {},
     "output_type": "display_data"
    },
    {
     "name": "stdout",
     "output_type": "stream",
     "text": [
      "# Get Feature Importance\n",
      "\n",
      "\n",
      "=============== SUMMARY Random Forest ===============\n",
      "# Average Metrics\n",
      "rmse_baseline_test               4.944454\n",
      "rmse_baseline_train              4.945446\n",
      "rmse_test                        3.611543\n",
      "rmse_train                       1.591171\n",
      "up_down_test_acc                 0.673963\n",
      "up_down_test_f1_score            0.686097\n",
      "up_down_test_precision_score     0.599954\n",
      "up_down_test_recall_score        0.801211\n",
      "up_down_train_acc                0.855187\n",
      "up_down_train_f1_score           0.854476\n",
      "up_down_train_precision_score    0.772620\n",
      "up_down_train_recall_score       0.955734\n",
      "dtype: float64\n",
      "# Average Feature Importance\n",
      "                                              Feature  Avg_importance\n",
      "0                                            PREVIOUS        0.106051\n",
      "1                                                  RS        0.027152\n",
      "2       TRANSTORNOS_DE_CONDUÇÃO_E_ARRITMIAS_CARDÍACAS        0.021893\n",
      "3   TRANST_MENTAIS_COMPORT_DEV_USO_OUTR_SUBST_PSICOAT        0.013491\n",
      "4   BRONQUITE_ENFISEMA_E_OUTR_DOENÇ_PULM_OBSTR_CRÔNIC        0.016245\n",
      "5                                 DOENÇAS_DO_APÊNDICE        0.015567\n",
      "6                     TRANSTORNOS_DE_HUMOR_[AFETIVOS]        0.013557\n",
      "7   NEOPLASIA_MALIGNA_DE_TRAQUÉIA_BRÔNQUIOS_E_PULMÕES        0.016468\n",
      "8                           COLELITÍASE_E_COLECISTITE        0.014181\n",
      "9   NEOPL_MALIG_OUTR_LOCALIZ_MAL_DEF_SECUN_E_NÃO_E...        0.011140\n",
      "10                                   FRATURA_DO_FÊMUR        0.010158\n",
      "11                DOENÇAS_RENAIS_TÚBULO-INTERSTICIAIS        0.009416\n",
      "12                                     OUTRAS_HÉRNIAS        0.010524\n",
      "13                                 LEIOMIOMA_DO_ÚTERO        0.009968\n",
      "14  TRANST_DISCAIS_CERVIC_E_OUTR_TRANST_DISC_INTER...        0.008218\n",
      "15                 OUTRAS_NEOPLASIAS_MALIGNAS_DA_PELE        0.011268\n",
      "16                           OUTRAS_DOENÇAS_DO_FÍGADO        0.008849\n",
      "17               OUTRAS_DOENÇAS_ISQUÊMICAS_DO_CORAÇÃO        0.010969\n",
      "18       OUTRAS_DOENÇAS_DO_ESÔFAGO_ESTÔMAGO_E_DUODENO        0.008388\n",
      "19         OUTRAS_COMPLICAÇÕES_DA_GRAVIDEZ_E_DO_PARTO        0.008835\n",
      "\n",
      "Total run time: 11360.832388877869\n"
     ]
    }
   ],
   "source": [
    "start = time.time()\n",
    "kf = KFold(n_splits = 5, shuffle = True, random_state = 42)\n",
    "scores = pd.DataFrame()\n",
    "feature_importance_list = []\n",
    "feature_importance_shap_list = []\n",
    "count = 1\n",
    "for train_index, test_index in kf.split(X):\n",
    "    print(\"=============== RUN {} ===============\".format(count))\n",
    "    X_train, X_test = X.iloc[train_index], X.iloc[test_index]\n",
    "    y_train, y_test = y.iloc[train_index], y.iloc[test_index]\n",
    "    \n",
    "    print(\"# Feature Selection: correlation\")\n",
    "    selected_cor_features = cor_feature_selector(X_train,y_train,corr_min_value)\n",
    "    X_train = X_train[selected_cor_features]\n",
    "    X_test = X_test[selected_cor_features]\n",
    "    \n",
    "    print(\"# Bayesian Optimization\")\n",
    "    def train_model(params):\n",
    "        n_estimators = params[0]\n",
    "        max_depth = params[1]\n",
    "        min_samples_leaf = params[2]\n",
    "        max_features = params[3]\n",
    "\n",
    "        xf_train_params,xf_val,yf_train_params,yf_val = train_test_split(X_train,y_train,test_size=0.33,random_state=42)\n",
    "\n",
    "        model = RandomForestRegressor(n_jobs=-1, random_state=42,n_estimators=n_estimators, \n",
    "                                      max_depth=max_depth,min_samples_leaf=min_samples_leaf,max_features=max_features)\n",
    "\n",
    "        model.fit(xf_train_params,yf_train_params)\n",
    "        yf_pred = model.predict(xf_val)\n",
    "\n",
    "        return np.sqrt(metrics.mean_squared_error(yf_val, yf_pred))\n",
    "    space = [\n",
    "        (5,1000),   #n_estimators\n",
    "        (3,30),     #max_depth\n",
    "        (2,200),    #min_samples_leaf\n",
    "        (0.25,1.00) #max_features\n",
    "    ]\n",
    "    resultado_gp = gp_minimize(train_model, space, random_state=42, verbose=0, n_calls=30, n_random_starts=10)\n",
    "    \n",
    "    print(\"# Fitting the model\")\n",
    "    regressor = RandomForestRegressor(n_jobs=-1, random_state=42,n_estimators=resultado_gp.x[0], \n",
    "                                  max_depth=resultado_gp.x[1],min_samples_leaf=resultado_gp.x[2],max_features=resultado_gp.x[3])\n",
    "    regressor.fit(X_train,y_train)\n",
    "    \n",
    "    print(\"# Making predictions\")\n",
    "    y_pred = regressor.predict(X_test) \n",
    "    y_pred_train = regressor.predict(X_train)\n",
    "    \n",
    "    print(\"# Calculating metrics\")\n",
    "    scores = calculate_metrics(y_train, y_test, y_pred, y_pred_train, scores)\n",
    "    \n",
    "    print(\"# Get Feature Importance\")\n",
    "    importance = regressor.feature_importances_\n",
    "    feature_importance_list.append(pd.DataFrame({\"Feature\": X_train.columns, \"Importance\": importance}).sort_values(by=\"Importance\", ascending=False))\n",
    "    \n",
    "    explainer = shap.TreeExplainer(regressor)\n",
    "    shap_values = explainer.shap_values(X_test)\n",
    "    vals= np.abs(shap_values).mean(0)\n",
    "    feature_importance_shap = pd.DataFrame(list(zip(X_test.columns,vals)),columns=['Feature','Importance'])\n",
    "    feature_importance_shap.sort_values(by=['Importance'],ascending=False,inplace=True)\n",
    "    feature_importance_shap_list.append(feature_importance_shap)    \n",
    "    \n",
    "    print(\"\\n\")\n",
    "    count += 1\n",
    "print(\"=============== SUMMARY Random Forest ===============\")\n",
    "print(\"# Average Metrics\")\n",
    "print(scores.mean())\n",
    "all_models_scores[\"Random Forest\"] = scores\n",
    "print(\"# Average Feature Importance\")\n",
    "final_feat_df = get_average_feat_importance(feature_importance_list)\n",
    "final_feat_df.to_csv(\"fi_random_forest_regression.csv\")\n",
    "final_feat_df_shap = get_average_feat_importance(feature_importance_shap_list)\n",
    "final_feat_df_shap.to_csv(\"fi_shap_random_forest.csv\")\n",
    "print(final_feat_df.head(20))\n",
    "end = time.time()\n",
    "\n",
    "print(\"\\nTotal run time:\", end-start)"
   ]
  },
  {
   "cell_type": "code",
   "execution_count": 26,
   "metadata": {},
   "outputs": [
    {
     "data": {
      "image/png": "[encoded data removed]",
      "text/plain": [
       "<Figure size 576x684 with 2 Axes>"
      ]
     },
     "metadata": {
      "needs_background": "light"
     },
     "output_type": "display_data"
    }
   ],
   "source": [
    "explainer = shap.TreeExplainer(regressor)\n",
    "\n",
    "shap_values = explainer.shap_values(X_test)\n",
    "\n",
    "shap.summary_plot(shap_values, X_test, show=False)\n",
    "plt.title(\"Análise SHAP para Random Forest\")\n",
    "plt.savefig(\"random_forest_regression_shap.png\", bbox_inches = \"tight\")"
   ]
  },
  {
   "cell_type": "code",
   "execution_count": 24,
   "metadata": {},
   "outputs": [],
   "source": [
    "X_train = X_train_2018\n",
    "y_train = y_train_2018\n",
    "\n",
    "def train_model(params):\n",
    "    n_estimators = params[0]\n",
    "    max_depth = params[1]\n",
    "    min_samples_leaf = params[2]\n",
    "    max_features = params[3]\n",
    "\n",
    "    xf_train_params,xf_val,yf_train_params,yf_val = train_test_split(X_train,y_train,test_size=0.33,random_state=42)\n",
    "\n",
    "    model = RandomForestRegressor(n_jobs=-1, random_state=42,n_estimators=n_estimators, \n",
    "                                  max_depth=max_depth,min_samples_leaf=min_samples_leaf,max_features=max_features)\n",
    "\n",
    "    model.fit(xf_train_params,yf_train_params)\n",
    "    yf_pred = model.predict(xf_val)\n",
    "\n",
    "    return np.sqrt(metrics.mean_squared_error(yf_val, yf_pred))\n",
    "space = [\n",
    "    (5,1000),   #n_estimators\n",
    "    (3,30),     #max_depth\n",
    "    (2,200),    #min_samples_leaf\n",
    "    (0.25,1.00) #max_features\n",
    "]\n",
    "resultado_gp = gp_minimize(train_model, space, random_state=42, verbose=0, n_calls=30, n_random_starts=10)\n",
    "\n",
    "regressor = RandomForestRegressor(n_jobs=-1, random_state=42,n_estimators=resultado_gp.x[0], \n",
    "                              max_depth=resultado_gp.x[1],min_samples_leaf=resultado_gp.x[2],max_features=resultado_gp.x[3])\n",
    "regressor.fit(X_train, y_train)\n",
    "\n",
    "filename = root + 'Dashboard/Models/sav/random_forest_regression.sav'\n",
    "pickle.dump(regressor, open(filename, 'wb'))"
   ]
  },
  {
   "cell_type": "markdown",
   "metadata": {},
   "source": [
    "## SVR"
   ]
  },
  {
   "cell_type": "code",
   "execution_count": 18,
   "metadata": {
    "scrolled": false
   },
   "outputs": [
    {
     "name": "stdout",
     "output_type": "stream",
     "text": [
      "=============== RUN 1 ===============\n",
      "# Feature Selection: correlation\n",
      "124 selected features (correlation)\n",
      "# Bayesian Optimization\n",
      "# Fitting the model\n",
      "# Making predictions\n",
      "# Calculating metrics\n"
     ]
    },
    {
     "data": {
      "text/plain": [
       "{'rmse_train': 3.3925962399751763,\n",
       " 'rmse_test': 3.6549475451633713,\n",
       " 'rmse_baseline_train': 4.968428887729926,\n",
       " 'rmse_baseline_test': 4.852756179751097,\n",
       " 'up_down_train_acc': 0.7066908713692946,\n",
       " 'up_down_train_recall_score': 0.7808060307335459,\n",
       " 'up_down_train_precision_score': 0.6413431769468921,\n",
       " 'up_down_train_f1_score': 0.7042364016736402,\n",
       " 'up_down_test_acc': 0.6732365145228216,\n",
       " 'up_down_test_recall_score': 0.75,\n",
       " 'up_down_test_precision_score': 0.6,\n",
       " 'up_down_test_f1_score': 0.6666666666666665}"
      ]
     },
     "metadata": {},
     "output_type": "display_data"
    },
    {
     "name": "stdout",
     "output_type": "stream",
     "text": [
      "\n",
      "\n",
      "=============== RUN 2 ===============\n",
      "# Feature Selection: correlation\n",
      "124 selected features (correlation)\n",
      "# Bayesian Optimization\n",
      "# Fitting the model\n",
      "# Making predictions\n",
      "# Calculating metrics\n"
     ]
    },
    {
     "data": {
      "text/plain": [
       "{'rmse_train': 3.4901307696281916,\n",
       " 'rmse_test': 3.5390136777657735,\n",
       " 'rmse_baseline_train': 4.9829751515185725,\n",
       " 'rmse_baseline_test': 4.792725690796757,\n",
       " 'up_down_train_acc': 0.6945020746887967,\n",
       " 'up_down_train_recall_score': 0.7682819383259912,\n",
       " 'up_down_train_precision_score': 0.6253884771694955,\n",
       " 'up_down_train_f1_score': 0.6895097522403796,\n",
       " 'up_down_test_acc': 0.6976141078838174,\n",
       " 'up_down_test_recall_score': 0.7669683257918553,\n",
       " 'up_down_test_precision_score': 0.6426540284360189,\n",
       " 'up_down_test_f1_score': 0.6993295513151109}"
      ]
     },
     "metadata": {},
     "output_type": "display_data"
    },
    {
     "name": "stdout",
     "output_type": "stream",
     "text": [
      "\n",
      "\n",
      "=============== RUN 3 ===============\n",
      "# Feature Selection: correlation\n",
      "127 selected features (correlation)\n",
      "# Bayesian Optimization\n"
     ]
    },
    {
     "name": "stderr",
     "output_type": "stream",
     "text": [
      "The objective has been evaluated at this point before.\n"
     ]
    },
    {
     "name": "stdout",
     "output_type": "stream",
     "text": [
      "# Fitting the model\n",
      "# Making predictions\n",
      "# Calculating metrics\n"
     ]
    },
    {
     "data": {
      "text/plain": [
       "{'rmse_train': 3.1330602241407126,\n",
       " 'rmse_test': 3.6774728964896592,\n",
       " 'rmse_baseline_train': 4.926016728480818,\n",
       " 'rmse_baseline_test': 5.022730507675877,\n",
       " 'up_down_train_acc': 0.7210840248962656,\n",
       " 'up_down_train_recall_score': 0.8018729880011706,\n",
       " 'up_down_train_precision_score': 0.6502135738016137,\n",
       " 'up_down_train_f1_score': 0.7181234438474644,\n",
       " 'up_down_test_acc': 0.6965767634854771,\n",
       " 'up_down_test_recall_score': 0.7637614678899083,\n",
       " 'up_down_test_precision_score': 0.6373205741626794,\n",
       " 'up_down_test_f1_score': 0.6948356807511736}"
      ]
     },
     "metadata": {},
     "output_type": "display_data"
    },
    {
     "name": "stdout",
     "output_type": "stream",
     "text": [
      "\n",
      "\n",
      "=============== RUN 4 ===============\n",
      "# Feature Selection: correlation\n",
      "119 selected features (correlation)\n",
      "# Bayesian Optimization\n",
      "# Fitting the model\n",
      "# Making predictions\n",
      "# Calculating metrics\n"
     ]
    },
    {
     "data": {
      "text/plain": [
       "{'rmse_train': 3.3783266073481917,\n",
       " 'rmse_test': 3.7005901677599815,\n",
       " 'rmse_baseline_train': 4.930784973910473,\n",
       " 'rmse_baseline_test': 5.003980730784661,\n",
       " 'up_down_train_acc': 0.7077282157676349,\n",
       " 'up_down_train_recall_score': 0.7813953488372093,\n",
       " 'up_down_train_precision_score': 0.641527446300716,\n",
       " 'up_down_train_f1_score': 0.7045871559633028,\n",
       " 'up_down_test_acc': 0.6836099585062241,\n",
       " 'up_down_test_recall_score': 0.7479387514723204,\n",
       " 'up_down_test_precision_score': 0.6159068865179438,\n",
       " 'up_down_test_f1_score': 0.6755319148936171}"
      ]
     },
     "metadata": {},
     "output_type": "display_data"
    },
    {
     "name": "stdout",
     "output_type": "stream",
     "text": [
      "\n",
      "\n",
      "=============== RUN 5 ===============\n",
      "# Feature Selection: correlation\n",
      "125 selected features (correlation)\n",
      "# Bayesian Optimization\n",
      "# Fitting the model\n",
      "# Making predictions\n",
      "# Calculating metrics\n"
     ]
    },
    {
     "data": {
      "text/plain": [
       "{'rmse_train': 3.4657375977237717,\n",
       " 'rmse_test': 3.550850537784041,\n",
       " 'rmse_baseline_train': 4.919021930072528,\n",
       " 'rmse_baseline_test': 5.050077028688922,\n",
       " 'up_down_train_acc': 0.7020228215767634,\n",
       " 'up_down_train_recall_score': 0.7759071117561683,\n",
       " 'up_down_train_precision_score': 0.6365801381281257,\n",
       " 'up_down_train_f1_score': 0.6993720565149135,\n",
       " 'up_down_test_acc': 0.6898340248962656,\n",
       " 'up_down_test_recall_score': 0.764218009478673,\n",
       " 'up_down_test_precision_score': 0.617816091954023,\n",
       " 'up_down_test_f1_score': 0.6832627118644068}"
      ]
     },
     "metadata": {},
     "output_type": "display_data"
    },
    {
     "name": "stdout",
     "output_type": "stream",
     "text": [
      "\n",
      "\n",
      "=============== SUMMARY SVR MM ===============\n",
      "# Average Metrics\n",
      "rmse_baseline_test               4.944454\n",
      "rmse_baseline_train              4.945446\n",
      "rmse_test                        3.624575\n",
      "rmse_train                       3.371970\n",
      "up_down_test_acc                 0.688174\n",
      "up_down_test_f1_score            0.683925\n",
      "up_down_test_precision_score     0.622740\n",
      "up_down_test_recall_score        0.758577\n",
      "up_down_train_acc                0.706406\n",
      "up_down_train_f1_score           0.703166\n",
      "up_down_train_precision_score    0.639011\n",
      "up_down_train_recall_score       0.781653\n",
      "dtype: float64\n",
      "\n",
      "Total run time: 1458.2140181064606\n",
      "\n",
      "=============== SAVE Y_TEST_PRED ===============\n"
     ]
    }
   ],
   "source": [
    "start = time.time()\n",
    "kf = KFold(n_splits = 5, shuffle = True, random_state = 42)\n",
    "scores = pd.DataFrame()\n",
    "count = 1\n",
    "\n",
    "for train_index, test_index in kf.split(X):\n",
    "    print(\"=============== RUN {} ===============\".format(count))\n",
    "    X_train, X_test = X.iloc[train_index], X.iloc[test_index]\n",
    "    y_train, y_test = y.iloc[train_index], y.iloc[test_index]\n",
    "    \n",
    "    print(\"# Feature Selection: correlation\")\n",
    "    selected_cor_features = cor_feature_selector(X_train,y_train,corr_min_value)\n",
    "    X_train = X_train[selected_cor_features]\n",
    "    X_test = X_test[selected_cor_features]\n",
    "    \n",
    "    mm_x = MinMaxScaler()\n",
    "    mm_y = MinMaxScaler()\n",
    "    mm_x.fit(X_train)\n",
    "    \n",
    "    y_reshape = y_train.values.reshape(-1, 1)\n",
    "    y_df = y_train.to_frame()\n",
    "    mm_y.fit(y_reshape)\n",
    "    \n",
    "    X_train_transf = pd.DataFrame(mm_x.transform(X_train), index=X_train.index, columns=X_train.columns)\n",
    "    X_test_transf = pd.DataFrame(mm_x.transform(X_test), index=X_test.index, columns=X_test.columns)\n",
    "    y_train_transf = pd.DataFrame(mm_y.transform(y_reshape), index=y_df.index, columns=y_df.columns)\n",
    "    \n",
    "    print(\"# Bayesian Optimization\")\n",
    "    def train_model(params):\n",
    "        gamma = params[0]\n",
    "        C = params[1]\n",
    "\n",
    "        xf_train_params,xf_val,yf_train_params,yf_val = train_test_split(X_train_transf,y_train_transf.values.ravel(),test_size=0.33,random_state=42)\n",
    "\n",
    "        model = SVR(gamma=gamma, C=C)\n",
    "\n",
    "        model.fit(xf_train_params,yf_train_params)\n",
    "        yf_pred = model.predict(xf_val)\n",
    "\n",
    "        return np.sqrt(metrics.mean_squared_error(yf_val, yf_pred))\n",
    "    space = [\n",
    "        (0.001,0.9), #gamma\n",
    "        (1,10000),   #C\n",
    "    ]\n",
    "    resultado_gp = gp_minimize(train_model, space, random_state=42, verbose=0, n_calls=30, n_random_starts=10)\n",
    "    \n",
    "    print(\"# Fitting the model\")\n",
    "    regressor = SVR(gamma=resultado_gp.x[0], C=resultado_gp.x[1])\n",
    "    regressor.fit(X_train_transf, y_train_transf.values.ravel())\n",
    "    \n",
    "    print(\"# Making predictions\")\n",
    "    y_pred = regressor.predict(X_test_transf) \n",
    "    y_pred_train = regressor.predict(X_train_transf)\n",
    "    y_pred_train_reshaped = mm_y.inverse_transform(y_pred_train.reshape(-1,1))\n",
    "    y_pred_reshaped = mm_y.inverse_transform(y_pred.reshape(-1,1))\n",
    "    y_train_reshaped = mm_y.inverse_transform(y_train_transf.values)\n",
    "    \n",
    "    print(\"# Calculating metrics\")\n",
    "    scores = calculate_metrics(y_train_reshaped.ravel(), y_test, y_pred_reshaped.ravel(), y_pred_train_reshaped.ravel(), scores)\n",
    "    \n",
    "    print(\"\\n\")\n",
    "    count += 1\n",
    "print(\"=============== SUMMARY SVR MM ===============\")\n",
    "print(\"# Average Metrics\")\n",
    "print(scores.mean())\n",
    "all_models_scores[\"SVR MM\"] = scores\n",
    "\n",
    "end = time.time()\n",
    "\n",
    "print(\"\\nTotal run time:\", end-start)\n",
    "\n",
    "print(\"\\n=============== SAVE Y_TEST_PRED ===============\")\n",
    "y_test_pred = pd.DataFrame({\"previous\": X_test[\"PREVIOUS\"],\"y_test\": y_test, \"y_pred\": y_pred_reshaped.ravel()})\n",
    "y_test_pred.to_csv('y_test_pred_MinMax.csv')"
   ]
  },
  {
   "cell_type": "code",
   "execution_count": 21,
   "metadata": {},
   "outputs": [],
   "source": [
    "y_df = y_train_2018.to_frame()\n",
    "\n",
    "X_train = pd.DataFrame(mm_x_2018.transform(X_train_2018), index=X_train_2018.index, columns=X_train_2018.columns)\n",
    "y_train = pd.DataFrame(mm_y_2018.transform(y_train_2018_reshape), index=y_df.index, columns=y_df.columns)\n",
    "\n",
    "def train_model(params):\n",
    "    gamma = params[0]\n",
    "    C = params[1]\n",
    "\n",
    "    xf_train_params,xf_val,yf_train_params,yf_val = train_test_split(X_train,y_train.values.ravel(),test_size=0.33,random_state=42)\n",
    "\n",
    "    model = SVR(gamma=gamma, C=C)\n",
    "\n",
    "    model.fit(xf_train_params,yf_train_params)\n",
    "    yf_pred = model.predict(xf_val)\n",
    "\n",
    "    return np.sqrt(metrics.mean_squared_error(yf_val, yf_pred))\n",
    "space = [\n",
    "    (0.001,0.9), #gamma\n",
    "    (1,10000),   #C\n",
    "]\n",
    "resultado_gp = gp_minimize(train_model, space, random_state=42, verbose=0, n_calls=30, n_random_starts=10)\n",
    "\n",
    "regressor = SVR(gamma=resultado_gp.x[0], C=resultado_gp.x[1])\n",
    "regressor.fit(X_train,y_train.values.ravel())\n",
    "\n",
    "filename = root + 'Dashboard/Models/sav/svr_mm_regression.sav'\n",
    "pickle.dump(regressor, open(filename, 'wb'))"
   ]
  },
  {
   "cell_type": "markdown",
   "metadata": {},
   "source": [
    "# All Models"
   ]
  },
  {
   "cell_type": "markdown",
   "metadata": {},
   "source": [
    "Getting a summary of all model results"
   ]
  },
  {
   "cell_type": "code",
   "execution_count": 25,
   "metadata": {
    "scrolled": true
   },
   "outputs": [
    {
     "data": {
      "text/html": [
       "<div>\n",
       "<style scoped>\n",
       "    .dataframe tbody tr th:only-of-type {\n",
       "        vertical-align: middle;\n",
       "    }\n",
       "\n",
       "    .dataframe tbody tr th {\n",
       "        vertical-align: top;\n",
       "    }\n",
       "\n",
       "    .dataframe thead th {\n",
       "        text-align: right;\n",
       "    }\n",
       "</style>\n",
       "<table border=\"1\" class=\"dataframe\">\n",
       "  <thead>\n",
       "    <tr style=\"text-align: right;\">\n",
       "      <th></th>\n",
       "      <th>Model</th>\n",
       "      <th>rmse_baseline_test</th>\n",
       "      <th>rmse_baseline_train</th>\n",
       "      <th>rmse_test</th>\n",
       "      <th>rmse_train</th>\n",
       "      <th>up_down_test_acc</th>\n",
       "      <th>up_down_test_f1_score</th>\n",
       "      <th>up_down_test_precision_score</th>\n",
       "      <th>up_down_test_recall_score</th>\n",
       "      <th>up_down_train_acc</th>\n",
       "      <th>up_down_train_f1_score</th>\n",
       "      <th>up_down_train_precision_score</th>\n",
       "      <th>up_down_train_recall_score</th>\n",
       "    </tr>\n",
       "  </thead>\n",
       "  <tbody>\n",
       "    <tr>\n",
       "      <th>0</th>\n",
       "      <td>LinearRegression</td>\n",
       "      <td>4.944454</td>\n",
       "      <td>4.945446</td>\n",
       "      <td>3.648579</td>\n",
       "      <td>3.563491</td>\n",
       "      <td>0.682054</td>\n",
       "      <td>0.685386</td>\n",
       "      <td>0.612070</td>\n",
       "      <td>0.778809</td>\n",
       "      <td>0.686359</td>\n",
       "      <td>0.690004</td>\n",
       "      <td>0.615768</td>\n",
       "      <td>0.784599</td>\n",
       "    </tr>\n",
       "    <tr>\n",
       "      <th>1</th>\n",
       "      <td>ElasticNet</td>\n",
       "      <td>4.944454</td>\n",
       "      <td>4.945446</td>\n",
       "      <td>3.651378</td>\n",
       "      <td>3.627840</td>\n",
       "      <td>0.676867</td>\n",
       "      <td>0.684555</td>\n",
       "      <td>0.604929</td>\n",
       "      <td>0.788389</td>\n",
       "      <td>0.678734</td>\n",
       "      <td>0.686237</td>\n",
       "      <td>0.606764</td>\n",
       "      <td>0.789677</td>\n",
       "    </tr>\n",
       "    <tr>\n",
       "      <th>2</th>\n",
       "      <td>SVR MM</td>\n",
       "      <td>4.944454</td>\n",
       "      <td>4.945446</td>\n",
       "      <td>3.624575</td>\n",
       "      <td>3.371970</td>\n",
       "      <td>0.688174</td>\n",
       "      <td>0.683925</td>\n",
       "      <td>0.622740</td>\n",
       "      <td>0.758577</td>\n",
       "      <td>0.706406</td>\n",
       "      <td>0.703166</td>\n",
       "      <td>0.639011</td>\n",
       "      <td>0.781653</td>\n",
       "    </tr>\n",
       "    <tr>\n",
       "      <th>3</th>\n",
       "      <td>Random Forest</td>\n",
       "      <td>4.944454</td>\n",
       "      <td>4.945446</td>\n",
       "      <td>3.611543</td>\n",
       "      <td>1.591171</td>\n",
       "      <td>0.673963</td>\n",
       "      <td>0.686097</td>\n",
       "      <td>0.599954</td>\n",
       "      <td>0.801211</td>\n",
       "      <td>0.855187</td>\n",
       "      <td>0.854476</td>\n",
       "      <td>0.772620</td>\n",
       "      <td>0.955734</td>\n",
       "    </tr>\n",
       "  </tbody>\n",
       "</table>\n",
       "</div>"
      ],
      "text/plain": [
       "              Model  rmse_baseline_test  rmse_baseline_train  rmse_test  \\\n",
       "0  LinearRegression            4.944454             4.945446   3.648579   \n",
       "1        ElasticNet            4.944454             4.945446   3.651378   \n",
       "2            SVR MM            4.944454             4.945446   3.624575   \n",
       "3     Random Forest            4.944454             4.945446   3.611543   \n",
       "\n",
       "   rmse_train  up_down_test_acc  up_down_test_f1_score  \\\n",
       "0    3.563491          0.682054               0.685386   \n",
       "1    3.627840          0.676867               0.684555   \n",
       "2    3.371970          0.688174               0.683925   \n",
       "3    1.591171          0.673963               0.686097   \n",
       "\n",
       "   up_down_test_precision_score  up_down_test_recall_score  up_down_train_acc  \\\n",
       "0                      0.612070                   0.778809           0.686359   \n",
       "1                      0.604929                   0.788389           0.678734   \n",
       "2                      0.622740                   0.758577           0.706406   \n",
       "3                      0.599954                   0.801211           0.855187   \n",
       "\n",
       "   up_down_train_f1_score  up_down_train_precision_score  \\\n",
       "0                0.690004                       0.615768   \n",
       "1                0.686237                       0.606764   \n",
       "2                0.703166                       0.639011   \n",
       "3                0.854476                       0.772620   \n",
       "\n",
       "   up_down_train_recall_score  \n",
       "0                    0.784599  \n",
       "1                    0.789677  \n",
       "2                    0.781653  \n",
       "3                    0.955734  "
      ]
     },
     "metadata": {},
     "output_type": "display_data"
    }
   ],
   "source": [
    "df_result = pd.DataFrame()\n",
    "\n",
    "for model,scores in all_models_scores.items():\n",
    "    df_model = scores.mean().to_frame().transpose()\n",
    "    df_model.insert(0, 'Model', model)\n",
    "    df_result = df_result.append(df_model, ignore_index=True)\n",
    "\n",
    "display(df_result)"
   ]
  },
  {
   "cell_type": "markdown",
   "metadata": {},
   "source": [
    "<!-- ## AdaBoost -->"
   ]
  },
  {
   "cell_type": "code",
   "execution_count": null,
   "metadata": {
    "scrolled": false
   },
   "outputs": [],
   "source": [
    "# start = time.time()\n",
    "# kf = KFold(n_splits = 5, shuffle = True, random_state = 42)\n",
    "# scores = pd.DataFrame({\"rmse_train\": [], \"rmse_test\": [], \"rmse_baseline_train\": [], \"rmse_baseline_test\": [], \"up_down_train\": [], \"up_down_test\": []})\n",
    "# feature_importance_list = []\n",
    "# count = 1\n",
    "# for train_index, test_index in kf.split(X):\n",
    "#     print(\"=============== RUN {} ===============\".format(count))\n",
    "#     X_train, X_test = X.iloc[train_index], X.iloc[test_index]\n",
    "#     y_train, y_test = y.iloc[train_index], y.iloc[test_index]\n",
    "    \n",
    "#     print(\"# Feature Selection: correlation\")\n",
    "#     selected_cor_features = cor_feature_selector(X_train,y_train,corr_min_value)\n",
    "#     X_train = X_train[selected_cor_features]\n",
    "#     X_test = X_test[selected_cor_features]\n",
    "    \n",
    "#     print(\"# Bayesian Optimization\")\n",
    "#     def train_model(params):\n",
    "#         n_estimators = params[0]\n",
    "#         learning_rate = params[1]\n",
    "\n",
    "#         xf_train_params,xf_val,yf_train_params,yf_val = train_test_split(X_train,y_train,test_size=0.33,random_state=42)\n",
    "\n",
    "#         model = AdaBoostRegressor(random_state=42,n_estimators=n_estimators, learning_rate=learning_rate)\n",
    "\n",
    "#         model.fit(xf_train_params,yf_train_params)\n",
    "#         yf_pred = model.predict(xf_val)\n",
    "\n",
    "#         return np.sqrt(metrics.mean_squared_error(yf_val, yf_pred))\n",
    "#     space = [\n",
    "#         (30,200), #n_estimators\n",
    "#         (0.01, 1) #learning_rate\n",
    "#     ]\n",
    "#     resultado_gp = gp_minimize(train_model, space, random_state=42, verbose=0, n_calls=30, n_random_starts=10)\n",
    "    \n",
    "#     print(\"# Fitting the model\")\n",
    "#     regressor = AdaBoostRegressor(random_state=42,n_estimators=resultado_gp.x[0], learning_rate=resultado_gp.x[1])\n",
    "#     regressor.fit(X_train,y_train)\n",
    "    \n",
    "#     print(\"# Making predictions\")\n",
    "#     y_pred = regressor.predict(X_test) \n",
    "#     y_pred_train = regressor.predict(X_train)\n",
    "    \n",
    "#     print(\"# Calculating metrics\")\n",
    "#     scores = calculate_metrics(y_train, y_test, y_pred, y_pred_train, scores)\n",
    "    \n",
    "#     print(\"# Get Feature Importance\")\n",
    "#     importance = regressor.feature_importances_\n",
    "#     feature_importance_list.append(pd.DataFrame({\"Feature\": X_train.columns, \"Importance\": importance}).sort_values(by=\"Importance\", ascending=False))\n",
    "    \n",
    "#     print(\"\\n\")\n",
    "#     count += 1\n",
    "# print(\"=============== SUMMARY AdaBoost ===============\")\n",
    "# print(\"# Average Metrics\")\n",
    "# print(scores.mean())\n",
    "# all_models_scores[\"AdaBoost\"] = scores\n",
    "# print(\"# Average Feature Importance\")\n",
    "# final_feat_df = get_average_feat_importance(feature_importance_list)\n",
    "# print(final_feat_df.head(20))\n",
    "# end = time.time()\n",
    "\n",
    "# print(\"\\nTotal run time:\", end-start)\n",
    "\n",
    "# print(\"\\n=============== SAVE Y_TEST_PRED ===============\")\n",
    "# y_test_pred = pd.DataFrame({\"previous\": X_test[\"PREVIOUS\"],\"y_test\": y_test, \"y_pred\": y_pred})\n",
    "# y_test_pred.to_csv('y_test_pred_AdaBoost.csv')"
   ]
  },
  {
   "cell_type": "code",
   "execution_count": null,
   "metadata": {},
   "outputs": [],
   "source": [
    "# X_train = train_df.drop(columns=[\"RATE\"])\n",
    "# y_train = train_df[\"RATE\"]\n",
    "\n",
    "# with open('selected_cor_features', 'rb') as f:\n",
    "#     selected_cor_features = pickle.load(f)\n",
    "    \n",
    "# X_train = X_train[selected_cor_features]\n",
    "\n",
    "# def train_model(params):\n",
    "#     n_estimators = params[0]\n",
    "#     learning_rate = params[1]\n",
    "\n",
    "#     xf_train_params,xf_val,yf_train_params,yf_val = train_test_split(X_train,y_train,test_size=0.33,random_state=42)\n",
    "\n",
    "#     model = AdaBoostRegressor(random_state=42,n_estimators=n_estimators, learning_rate=learning_rate)\n",
    "\n",
    "#     model.fit(xf_train_params,yf_train_params)\n",
    "#     yf_pred = model.predict(xf_val)\n",
    "\n",
    "#     return np.sqrt(metrics.mean_squared_error(yf_val, yf_pred))\n",
    "# space = [\n",
    "#     (30,200), #n_estimators\n",
    "#     (0.01, 1) #learning_rate\n",
    "# ]\n",
    "# resultado_gp = gp_minimize(train_model, space, random_state=42, verbose=0, n_calls=30, n_random_starts=10)\n",
    "\n",
    "# regressor = AdaBoostRegressor(random_state=42,n_estimators=resultado_gp.x[0], learning_rate=resultado_gp.x[1])\n",
    "# regressor.fit(X_train,y_train)\n",
    "\n",
    "# filename = root + 'Dashboard/Models/sav/adaboost_regression.sav'\n",
    "# pickle.dump(regressor, open(filename, 'wb'))"
   ]
  },
  {
   "cell_type": "markdown",
   "metadata": {},
   "source": [
    "<!-- ## Gradient Boosting -->"
   ]
  },
  {
   "cell_type": "code",
   "execution_count": null,
   "metadata": {
    "scrolled": false
   },
   "outputs": [],
   "source": [
    "# from sklearn.model_selection import KFold\n",
    "# start = time.time()\n",
    "# kf = KFold(n_splits = 5, shuffle = True, random_state = 42)\n",
    "# scores = pd.DataFrame({\"rmse_train\": [], \"rmse_test\": [], \"rmse_baseline_train\": [], \"rmse_baseline_test\": [], \"up_down_train\": [], \"up_down_test\": []})\n",
    "# feature_importance_list = []\n",
    "# count = 1\n",
    "# for train_index, test_index in kf.split(X):\n",
    "#     print(\"=============== RUN {} ===============\".format(count))\n",
    "#     X_train, X_test = X.iloc[train_index], X.iloc[test_index]\n",
    "#     y_train, y_test = y.iloc[train_index], y.iloc[test_index]\n",
    "    \n",
    "#     print(\"# Feature Selection: correlation\")\n",
    "#     selected_cor_features = cor_feature_selector(X_train,y_train,corr_min_value)\n",
    "#     X_train = X_train[selected_cor_features]\n",
    "#     X_test = X_test[selected_cor_features]\n",
    "    \n",
    "#     print(\"# Bayesian Optimization\")\n",
    "#     def train_model(params):\n",
    "#         n_estimators = params[0]\n",
    "#         learning_rate = params[1]\n",
    "#         max_depth = params[2]\n",
    "#         min_samples_splits = params[3]\n",
    "#         min_samples_leafs = params[4]\n",
    "\n",
    "#         xf_train_params,xf_val,yf_train_params,yf_val = train_test_split(X_train,y_train,test_size=0.33,random_state=42)\n",
    "\n",
    "#         model = GradientBoostingRegressor(random_state=42,n_estimators=n_estimators, learning_rate=learning_rate,\n",
    "#                                           max_depth=max_depth,min_samples_split=min_samples_splits,min_samples_leaf=min_samples_leafs)\n",
    "\n",
    "#         model.fit(xf_train_params,yf_train_params)\n",
    "#         yf_pred = model.predict(xf_val)\n",
    "\n",
    "#         return np.sqrt(metrics.mean_squared_error(yf_val, yf_pred))\n",
    "#     space = [\n",
    "#         (30,200),  #n_estimators\n",
    "#         (0.01, 1), #learning_rate\n",
    "#         (1,32),    #max_depth\n",
    "#         (0.1, 1),  #min_samples_splits \n",
    "#         (0.1, 0.5) #min_samples_leafs \n",
    "#     ]\n",
    "#     resultado_gp = gp_minimize(train_model, space, random_state=42, verbose=0, n_calls=30, n_random_starts=10)\n",
    "    \n",
    "#     print(\"# Fitting the model\")\n",
    "#     regressor = GradientBoostingRegressor(random_state=42,n_estimators=resultado_gp.x[0], learning_rate=resultado_gp.x[1],\n",
    "#                                          max_depth=resultado_gp.x[2], min_samples_split=resultado_gp.x[3], min_samples_leaf=resultado_gp.x[4])\n",
    "#     regressor.fit(X_train,y_train)\n",
    "    \n",
    "#     print(\"# Making predictions\")\n",
    "#     y_pred = regressor.predict(X_test) \n",
    "#     y_pred_train = regressor.predict(X_train)\n",
    "    \n",
    "#     print(\"# Calculating metrics\")\n",
    "#     scores = calculate_metrics(y_train, y_test, y_pred, y_pred_train, scores)\n",
    "    \n",
    "#     print(\"# Get Feature Importance\")\n",
    "#     importance = regressor.feature_importances_\n",
    "#     feature_importance_list.append(pd.DataFrame({\"Feature\": X_train.columns, \"Importance\": importance}).sort_values(by=\"Importance\", ascending=False))\n",
    "    \n",
    "#     print(\"\\n\")\n",
    "#     count += 1\n",
    "# print(\"=============== SUMMARY Gradient Boosting ===============\")\n",
    "# print(\"# Average Metrics\")\n",
    "# print(scores.mean())\n",
    "# all_models_scores[\"Gradient Boosting\"] = scores\n",
    "# print(\"# Average Feature Importance\")\n",
    "# final_feat_df = get_average_feat_importance(feature_importance_list)\n",
    "# print(final_feat_df.head(20))\n",
    "# end = time.time()\n",
    "\n",
    "# print(\"\\nTotal run time:\", end-start)\n",
    "\n",
    "# print(\"\\n=============== SAVE Y_TEST_PRED ===============\")\n",
    "# y_test_pred = pd.DataFrame({\"previous\": X_test[\"PREVIOUS\"],\"y_test\": y_test, \"y_pred\": y_pred})\n",
    "# y_test_pred.to_csv('y_test_pred_GradientBoosting.csv')"
   ]
  },
  {
   "cell_type": "code",
   "execution_count": null,
   "metadata": {},
   "outputs": [],
   "source": [
    "# X_train = train_df.drop(columns=[\"RATE\"])\n",
    "# y_train = train_df[\"RATE\"]\n",
    "\n",
    "# with open('selected_cor_features', 'rb') as f:\n",
    "#     selected_cor_features = pickle.load(f)\n",
    "    \n",
    "# X_train = X_train[selected_cor_features]\n",
    "\n",
    "# def train_model(params):\n",
    "#     n_estimators = params[0]\n",
    "#     learning_rate = params[1]\n",
    "#     max_depth = params[2]\n",
    "#     min_samples_splits = params[3]\n",
    "#     min_samples_leafs = params[4]\n",
    "\n",
    "#     xf_train_params,xf_val,yf_train_params,yf_val = train_test_split(X_train,y_train,test_size=0.33,random_state=42)\n",
    "\n",
    "#     model = GradientBoostingRegressor(random_state=42,n_estimators=n_estimators, learning_rate=learning_rate,\n",
    "#                                       max_depth=max_depth,min_samples_split=min_samples_splits,min_samples_leaf=min_samples_leafs)\n",
    "\n",
    "#     model.fit(xf_train_params,yf_train_params)\n",
    "#     yf_pred = model.predict(xf_val)\n",
    "\n",
    "#     return np.sqrt(metrics.mean_squared_error(yf_val, yf_pred))\n",
    "# space = [\n",
    "#     (30,200), #n_estimators\n",
    "#     (0.01, 1), #learning_rate\n",
    "#     (1,32), #max_depth\n",
    "#     (0.1, 1), #min_samples_splits \n",
    "#     (0.1, 0.5) #min_samples_leafs \n",
    "# ]\n",
    "# resultado_gp = gp_minimize(train_model, space, random_state=42, verbose=0, n_calls=30, n_random_starts=10)\n",
    "\n",
    "# regressor = GradientBoostingRegressor(random_state=42,n_estimators=resultado_gp.x[0], learning_rate=resultado_gp.x[1],\n",
    "#                                      max_depth=resultado_gp.x[2], min_samples_split=resultado_gp.x[3], min_samples_leaf=resultado_gp.x[4])\n",
    "# regressor.fit(X_train,y_train)\n",
    "\n",
    "# filename = root + 'Dashboard/Models/sav/gradient_boost_regression.sav'\n",
    "# pickle.dump(regressor, open(filename, 'wb'))"
   ]
  }
 ],
 "metadata": {
  "kernelspec": {
   "display_name": "Python 3",
   "language": "python",
   "name": "python3"
  },
  "language_info": {
   "codemirror_mode": {
    "name": "ipython",
    "version": 3
   },
   "file_extension": ".py",
   "mimetype": "text/x-python",
   "name": "python",
   "nbconvert_exporter": "python",
   "pygments_lexer": "ipython3",
   "version": "3.7.6"
  },
  "toc": {
   "base_numbering": 1,
   "nav_menu": {},
   "number_sections": true,
   "sideBar": true,
   "skip_h1_title": false,
   "title_cell": "Table of Contents",
   "title_sidebar": "Contents",
   "toc_cell": false,
   "toc_position": {
    "height": "calc(100% - 180px)",
    "left": "10px",
    "top": "150px",
    "width": "273.188px"
   },
   "toc_section_display": true,
   "toc_window_display": true
  }
 },
 "nbformat": 4,
 "nbformat_minor": 4
}
